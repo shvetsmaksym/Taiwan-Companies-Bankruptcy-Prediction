{
 "cells": [
  {
   "cell_type": "markdown",
   "id": "f0de1181",
   "metadata": {},
   "source": [
    "# Under- and Over-Sampling Techniques"
   ]
  },
  {
   "cell_type": "code",
   "execution_count": 1,
   "id": "ce90c476",
   "metadata": {},
   "outputs": [],
   "source": [
    "from collections import Counter\n",
    "import pandas as pd\n",
    "import numpy as np\n",
    "import matplotlib.pyplot as plt\n",
    "from matplotlib.colors import to_rgb\n",
    "from matplotlib.markers import MarkerStyle\n",
    "from sklearn.decomposition import PCA"
   ]
  },
  {
   "cell_type": "code",
   "execution_count": 5,
   "id": "ec164a26",
   "metadata": {},
   "outputs": [],
   "source": [
    "df = pd.read_csv(\"data.csv\")"
   ]
  },
  {
   "cell_type": "markdown",
   "id": "c8af8ab4",
   "metadata": {},
   "source": [
    "### Bankruptcy data from the Taiwan Economic Journal for the years 1999–2009\n",
    "https://www.kaggle.com/datasets/fedesoriano/company-bankruptcy-prediction"
   ]
  },
  {
   "cell_type": "code",
   "execution_count": 4,
   "id": "2afefc77",
   "metadata": {},
   "outputs": [
    {
     "data": {
      "text/html": [
       "<div>\n",
       "<style scoped>\n",
       "    .dataframe tbody tr th:only-of-type {\n",
       "        vertical-align: middle;\n",
       "    }\n",
       "\n",
       "    .dataframe tbody tr th {\n",
       "        vertical-align: top;\n",
       "    }\n",
       "\n",
       "    .dataframe thead th {\n",
       "        text-align: right;\n",
       "    }\n",
       "</style>\n",
       "<table border=\"1\" class=\"dataframe\">\n",
       "  <thead>\n",
       "    <tr style=\"text-align: right;\">\n",
       "      <th></th>\n",
       "      <th>Bankrupt?</th>\n",
       "      <th>ROA(C) before interest and depreciation before interest</th>\n",
       "      <th>ROA(A) before interest and % after tax</th>\n",
       "      <th>ROA(B) before interest and depreciation after tax</th>\n",
       "      <th>Operating Gross Margin</th>\n",
       "      <th>Realized Sales Gross Margin</th>\n",
       "      <th>Operating Profit Rate</th>\n",
       "      <th>Pre-tax net Interest Rate</th>\n",
       "      <th>After-tax net Interest Rate</th>\n",
       "      <th>Non-industry income and expenditure/revenue</th>\n",
       "      <th>...</th>\n",
       "      <th>Net Income to Total Assets</th>\n",
       "      <th>Total assets to GNP price</th>\n",
       "      <th>No-credit Interval</th>\n",
       "      <th>Gross Profit to Sales</th>\n",
       "      <th>Net Income to Stockholder's Equity</th>\n",
       "      <th>Liability to Equity</th>\n",
       "      <th>Degree of Financial Leverage (DFL)</th>\n",
       "      <th>Interest Coverage Ratio (Interest expense to EBIT)</th>\n",
       "      <th>Net Income Flag</th>\n",
       "      <th>Equity to Liability</th>\n",
       "    </tr>\n",
       "  </thead>\n",
       "  <tbody>\n",
       "    <tr>\n",
       "      <th>0</th>\n",
       "      <td>1</td>\n",
       "      <td>0.370594</td>\n",
       "      <td>0.424389</td>\n",
       "      <td>0.405750</td>\n",
       "      <td>0.601457</td>\n",
       "      <td>0.601457</td>\n",
       "      <td>0.998969</td>\n",
       "      <td>0.796887</td>\n",
       "      <td>0.808809</td>\n",
       "      <td>0.302646</td>\n",
       "      <td>...</td>\n",
       "      <td>0.716845</td>\n",
       "      <td>0.009219</td>\n",
       "      <td>0.622879</td>\n",
       "      <td>0.601453</td>\n",
       "      <td>0.827890</td>\n",
       "      <td>0.290202</td>\n",
       "      <td>0.026601</td>\n",
       "      <td>0.564050</td>\n",
       "      <td>1</td>\n",
       "      <td>0.016469</td>\n",
       "    </tr>\n",
       "    <tr>\n",
       "      <th>1</th>\n",
       "      <td>1</td>\n",
       "      <td>0.464291</td>\n",
       "      <td>0.538214</td>\n",
       "      <td>0.516730</td>\n",
       "      <td>0.610235</td>\n",
       "      <td>0.610235</td>\n",
       "      <td>0.998946</td>\n",
       "      <td>0.797380</td>\n",
       "      <td>0.809301</td>\n",
       "      <td>0.303556</td>\n",
       "      <td>...</td>\n",
       "      <td>0.795297</td>\n",
       "      <td>0.008323</td>\n",
       "      <td>0.623652</td>\n",
       "      <td>0.610237</td>\n",
       "      <td>0.839969</td>\n",
       "      <td>0.283846</td>\n",
       "      <td>0.264577</td>\n",
       "      <td>0.570175</td>\n",
       "      <td>1</td>\n",
       "      <td>0.020794</td>\n",
       "    </tr>\n",
       "    <tr>\n",
       "      <th>2</th>\n",
       "      <td>1</td>\n",
       "      <td>0.426071</td>\n",
       "      <td>0.499019</td>\n",
       "      <td>0.472295</td>\n",
       "      <td>0.601450</td>\n",
       "      <td>0.601364</td>\n",
       "      <td>0.998857</td>\n",
       "      <td>0.796403</td>\n",
       "      <td>0.808388</td>\n",
       "      <td>0.302035</td>\n",
       "      <td>...</td>\n",
       "      <td>0.774670</td>\n",
       "      <td>0.040003</td>\n",
       "      <td>0.623841</td>\n",
       "      <td>0.601449</td>\n",
       "      <td>0.836774</td>\n",
       "      <td>0.290189</td>\n",
       "      <td>0.026555</td>\n",
       "      <td>0.563706</td>\n",
       "      <td>1</td>\n",
       "      <td>0.016474</td>\n",
       "    </tr>\n",
       "    <tr>\n",
       "      <th>3</th>\n",
       "      <td>1</td>\n",
       "      <td>0.399844</td>\n",
       "      <td>0.451265</td>\n",
       "      <td>0.457733</td>\n",
       "      <td>0.583541</td>\n",
       "      <td>0.583541</td>\n",
       "      <td>0.998700</td>\n",
       "      <td>0.796967</td>\n",
       "      <td>0.808966</td>\n",
       "      <td>0.303350</td>\n",
       "      <td>...</td>\n",
       "      <td>0.739555</td>\n",
       "      <td>0.003252</td>\n",
       "      <td>0.622929</td>\n",
       "      <td>0.583538</td>\n",
       "      <td>0.834697</td>\n",
       "      <td>0.281721</td>\n",
       "      <td>0.026697</td>\n",
       "      <td>0.564663</td>\n",
       "      <td>1</td>\n",
       "      <td>0.023982</td>\n",
       "    </tr>\n",
       "    <tr>\n",
       "      <th>4</th>\n",
       "      <td>1</td>\n",
       "      <td>0.465022</td>\n",
       "      <td>0.538432</td>\n",
       "      <td>0.522298</td>\n",
       "      <td>0.598783</td>\n",
       "      <td>0.598783</td>\n",
       "      <td>0.998973</td>\n",
       "      <td>0.797366</td>\n",
       "      <td>0.809304</td>\n",
       "      <td>0.303475</td>\n",
       "      <td>...</td>\n",
       "      <td>0.795016</td>\n",
       "      <td>0.003878</td>\n",
       "      <td>0.623521</td>\n",
       "      <td>0.598782</td>\n",
       "      <td>0.839973</td>\n",
       "      <td>0.278514</td>\n",
       "      <td>0.024752</td>\n",
       "      <td>0.575617</td>\n",
       "      <td>1</td>\n",
       "      <td>0.035490</td>\n",
       "    </tr>\n",
       "    <tr>\n",
       "      <th>...</th>\n",
       "      <td>...</td>\n",
       "      <td>...</td>\n",
       "      <td>...</td>\n",
       "      <td>...</td>\n",
       "      <td>...</td>\n",
       "      <td>...</td>\n",
       "      <td>...</td>\n",
       "      <td>...</td>\n",
       "      <td>...</td>\n",
       "      <td>...</td>\n",
       "      <td>...</td>\n",
       "      <td>...</td>\n",
       "      <td>...</td>\n",
       "      <td>...</td>\n",
       "      <td>...</td>\n",
       "      <td>...</td>\n",
       "      <td>...</td>\n",
       "      <td>...</td>\n",
       "      <td>...</td>\n",
       "      <td>...</td>\n",
       "      <td>...</td>\n",
       "    </tr>\n",
       "    <tr>\n",
       "      <th>6814</th>\n",
       "      <td>0</td>\n",
       "      <td>0.493687</td>\n",
       "      <td>0.539468</td>\n",
       "      <td>0.543230</td>\n",
       "      <td>0.604455</td>\n",
       "      <td>0.604462</td>\n",
       "      <td>0.998992</td>\n",
       "      <td>0.797409</td>\n",
       "      <td>0.809331</td>\n",
       "      <td>0.303510</td>\n",
       "      <td>...</td>\n",
       "      <td>0.799927</td>\n",
       "      <td>0.000466</td>\n",
       "      <td>0.623620</td>\n",
       "      <td>0.604455</td>\n",
       "      <td>0.840359</td>\n",
       "      <td>0.279606</td>\n",
       "      <td>0.027064</td>\n",
       "      <td>0.566193</td>\n",
       "      <td>1</td>\n",
       "      <td>0.029890</td>\n",
       "    </tr>\n",
       "    <tr>\n",
       "      <th>6815</th>\n",
       "      <td>0</td>\n",
       "      <td>0.475162</td>\n",
       "      <td>0.538269</td>\n",
       "      <td>0.524172</td>\n",
       "      <td>0.598308</td>\n",
       "      <td>0.598308</td>\n",
       "      <td>0.998992</td>\n",
       "      <td>0.797414</td>\n",
       "      <td>0.809327</td>\n",
       "      <td>0.303520</td>\n",
       "      <td>...</td>\n",
       "      <td>0.799748</td>\n",
       "      <td>0.001959</td>\n",
       "      <td>0.623931</td>\n",
       "      <td>0.598306</td>\n",
       "      <td>0.840306</td>\n",
       "      <td>0.278132</td>\n",
       "      <td>0.027009</td>\n",
       "      <td>0.566018</td>\n",
       "      <td>1</td>\n",
       "      <td>0.038284</td>\n",
       "    </tr>\n",
       "    <tr>\n",
       "      <th>6816</th>\n",
       "      <td>0</td>\n",
       "      <td>0.472725</td>\n",
       "      <td>0.533744</td>\n",
       "      <td>0.520638</td>\n",
       "      <td>0.610444</td>\n",
       "      <td>0.610213</td>\n",
       "      <td>0.998984</td>\n",
       "      <td>0.797401</td>\n",
       "      <td>0.809317</td>\n",
       "      <td>0.303512</td>\n",
       "      <td>...</td>\n",
       "      <td>0.797778</td>\n",
       "      <td>0.002840</td>\n",
       "      <td>0.624156</td>\n",
       "      <td>0.610441</td>\n",
       "      <td>0.840138</td>\n",
       "      <td>0.275789</td>\n",
       "      <td>0.026791</td>\n",
       "      <td>0.565158</td>\n",
       "      <td>1</td>\n",
       "      <td>0.097649</td>\n",
       "    </tr>\n",
       "    <tr>\n",
       "      <th>6817</th>\n",
       "      <td>0</td>\n",
       "      <td>0.506264</td>\n",
       "      <td>0.559911</td>\n",
       "      <td>0.554045</td>\n",
       "      <td>0.607850</td>\n",
       "      <td>0.607850</td>\n",
       "      <td>0.999074</td>\n",
       "      <td>0.797500</td>\n",
       "      <td>0.809399</td>\n",
       "      <td>0.303498</td>\n",
       "      <td>...</td>\n",
       "      <td>0.811808</td>\n",
       "      <td>0.002837</td>\n",
       "      <td>0.623957</td>\n",
       "      <td>0.607846</td>\n",
       "      <td>0.841084</td>\n",
       "      <td>0.277547</td>\n",
       "      <td>0.026822</td>\n",
       "      <td>0.565302</td>\n",
       "      <td>1</td>\n",
       "      <td>0.044009</td>\n",
       "    </tr>\n",
       "    <tr>\n",
       "      <th>6818</th>\n",
       "      <td>0</td>\n",
       "      <td>0.493053</td>\n",
       "      <td>0.570105</td>\n",
       "      <td>0.549548</td>\n",
       "      <td>0.627409</td>\n",
       "      <td>0.627409</td>\n",
       "      <td>0.998080</td>\n",
       "      <td>0.801987</td>\n",
       "      <td>0.813800</td>\n",
       "      <td>0.313415</td>\n",
       "      <td>...</td>\n",
       "      <td>0.815956</td>\n",
       "      <td>0.000707</td>\n",
       "      <td>0.626680</td>\n",
       "      <td>0.627408</td>\n",
       "      <td>0.841019</td>\n",
       "      <td>0.275114</td>\n",
       "      <td>0.026793</td>\n",
       "      <td>0.565167</td>\n",
       "      <td>1</td>\n",
       "      <td>0.233902</td>\n",
       "    </tr>\n",
       "  </tbody>\n",
       "</table>\n",
       "<p>6819 rows × 96 columns</p>\n",
       "</div>"
      ],
      "text/plain": [
       "      Bankrupt?   ROA(C) before interest and depreciation before interest  \\\n",
       "0             1                                           0.370594          \n",
       "1             1                                           0.464291          \n",
       "2             1                                           0.426071          \n",
       "3             1                                           0.399844          \n",
       "4             1                                           0.465022          \n",
       "...         ...                                                ...          \n",
       "6814          0                                           0.493687          \n",
       "6815          0                                           0.475162          \n",
       "6816          0                                           0.472725          \n",
       "6817          0                                           0.506264          \n",
       "6818          0                                           0.493053          \n",
       "\n",
       "       ROA(A) before interest and % after tax  \\\n",
       "0                                    0.424389   \n",
       "1                                    0.538214   \n",
       "2                                    0.499019   \n",
       "3                                    0.451265   \n",
       "4                                    0.538432   \n",
       "...                                       ...   \n",
       "6814                                 0.539468   \n",
       "6815                                 0.538269   \n",
       "6816                                 0.533744   \n",
       "6817                                 0.559911   \n",
       "6818                                 0.570105   \n",
       "\n",
       "       ROA(B) before interest and depreciation after tax  \\\n",
       "0                                              0.405750    \n",
       "1                                              0.516730    \n",
       "2                                              0.472295    \n",
       "3                                              0.457733    \n",
       "4                                              0.522298    \n",
       "...                                                 ...    \n",
       "6814                                           0.543230    \n",
       "6815                                           0.524172    \n",
       "6816                                           0.520638    \n",
       "6817                                           0.554045    \n",
       "6818                                           0.549548    \n",
       "\n",
       "       Operating Gross Margin   Realized Sales Gross Margin  \\\n",
       "0                    0.601457                      0.601457   \n",
       "1                    0.610235                      0.610235   \n",
       "2                    0.601450                      0.601364   \n",
       "3                    0.583541                      0.583541   \n",
       "4                    0.598783                      0.598783   \n",
       "...                       ...                           ...   \n",
       "6814                 0.604455                      0.604462   \n",
       "6815                 0.598308                      0.598308   \n",
       "6816                 0.610444                      0.610213   \n",
       "6817                 0.607850                      0.607850   \n",
       "6818                 0.627409                      0.627409   \n",
       "\n",
       "       Operating Profit Rate   Pre-tax net Interest Rate  \\\n",
       "0                   0.998969                    0.796887   \n",
       "1                   0.998946                    0.797380   \n",
       "2                   0.998857                    0.796403   \n",
       "3                   0.998700                    0.796967   \n",
       "4                   0.998973                    0.797366   \n",
       "...                      ...                         ...   \n",
       "6814                0.998992                    0.797409   \n",
       "6815                0.998992                    0.797414   \n",
       "6816                0.998984                    0.797401   \n",
       "6817                0.999074                    0.797500   \n",
       "6818                0.998080                    0.801987   \n",
       "\n",
       "       After-tax net Interest Rate  \\\n",
       "0                         0.808809   \n",
       "1                         0.809301   \n",
       "2                         0.808388   \n",
       "3                         0.808966   \n",
       "4                         0.809304   \n",
       "...                            ...   \n",
       "6814                      0.809331   \n",
       "6815                      0.809327   \n",
       "6816                      0.809317   \n",
       "6817                      0.809399   \n",
       "6818                      0.813800   \n",
       "\n",
       "       Non-industry income and expenditure/revenue  ...  \\\n",
       "0                                         0.302646  ...   \n",
       "1                                         0.303556  ...   \n",
       "2                                         0.302035  ...   \n",
       "3                                         0.303350  ...   \n",
       "4                                         0.303475  ...   \n",
       "...                                            ...  ...   \n",
       "6814                                      0.303510  ...   \n",
       "6815                                      0.303520  ...   \n",
       "6816                                      0.303512  ...   \n",
       "6817                                      0.303498  ...   \n",
       "6818                                      0.313415  ...   \n",
       "\n",
       "       Net Income to Total Assets   Total assets to GNP price  \\\n",
       "0                        0.716845                    0.009219   \n",
       "1                        0.795297                    0.008323   \n",
       "2                        0.774670                    0.040003   \n",
       "3                        0.739555                    0.003252   \n",
       "4                        0.795016                    0.003878   \n",
       "...                           ...                         ...   \n",
       "6814                     0.799927                    0.000466   \n",
       "6815                     0.799748                    0.001959   \n",
       "6816                     0.797778                    0.002840   \n",
       "6817                     0.811808                    0.002837   \n",
       "6818                     0.815956                    0.000707   \n",
       "\n",
       "       No-credit Interval   Gross Profit to Sales  \\\n",
       "0                0.622879                0.601453   \n",
       "1                0.623652                0.610237   \n",
       "2                0.623841                0.601449   \n",
       "3                0.622929                0.583538   \n",
       "4                0.623521                0.598782   \n",
       "...                   ...                     ...   \n",
       "6814             0.623620                0.604455   \n",
       "6815             0.623931                0.598306   \n",
       "6816             0.624156                0.610441   \n",
       "6817             0.623957                0.607846   \n",
       "6818             0.626680                0.627408   \n",
       "\n",
       "       Net Income to Stockholder's Equity   Liability to Equity  \\\n",
       "0                                0.827890              0.290202   \n",
       "1                                0.839969              0.283846   \n",
       "2                                0.836774              0.290189   \n",
       "3                                0.834697              0.281721   \n",
       "4                                0.839973              0.278514   \n",
       "...                                   ...                   ...   \n",
       "6814                             0.840359              0.279606   \n",
       "6815                             0.840306              0.278132   \n",
       "6816                             0.840138              0.275789   \n",
       "6817                             0.841084              0.277547   \n",
       "6818                             0.841019              0.275114   \n",
       "\n",
       "       Degree of Financial Leverage (DFL)  \\\n",
       "0                                0.026601   \n",
       "1                                0.264577   \n",
       "2                                0.026555   \n",
       "3                                0.026697   \n",
       "4                                0.024752   \n",
       "...                                   ...   \n",
       "6814                             0.027064   \n",
       "6815                             0.027009   \n",
       "6816                             0.026791   \n",
       "6817                             0.026822   \n",
       "6818                             0.026793   \n",
       "\n",
       "       Interest Coverage Ratio (Interest expense to EBIT)   Net Income Flag  \\\n",
       "0                                              0.564050                   1   \n",
       "1                                              0.570175                   1   \n",
       "2                                              0.563706                   1   \n",
       "3                                              0.564663                   1   \n",
       "4                                              0.575617                   1   \n",
       "...                                                 ...                 ...   \n",
       "6814                                           0.566193                   1   \n",
       "6815                                           0.566018                   1   \n",
       "6816                                           0.565158                   1   \n",
       "6817                                           0.565302                   1   \n",
       "6818                                           0.565167                   1   \n",
       "\n",
       "       Equity to Liability  \n",
       "0                 0.016469  \n",
       "1                 0.020794  \n",
       "2                 0.016474  \n",
       "3                 0.023982  \n",
       "4                 0.035490  \n",
       "...                    ...  \n",
       "6814              0.029890  \n",
       "6815              0.038284  \n",
       "6816              0.097649  \n",
       "6817              0.044009  \n",
       "6818              0.233902  \n",
       "\n",
       "[6819 rows x 96 columns]"
      ]
     },
     "execution_count": 4,
     "metadata": {},
     "output_type": "execute_result"
    }
   ],
   "source": [
    "df"
   ]
  },
  {
   "cell_type": "code",
   "execution_count": 8,
   "id": "a3c0d76d",
   "metadata": {},
   "outputs": [],
   "source": [
    "num_yes = len(df[df['Bankrupt?'] == 1])\n",
    "num_no = len(df[df['Bankrupt?'] == 0])"
   ]
  },
  {
   "cell_type": "code",
   "execution_count": 9,
   "id": "cf6e74bb",
   "metadata": {},
   "outputs": [],
   "source": [
    "def add_value_label(x_list,y_list):\n",
    "    for i in range(len(x_list)):\n",
    "        plt.text(i, y_list[i], y_list[i], size=16)"
   ]
  },
  {
   "cell_type": "code",
   "execution_count": 10,
   "id": "9b7048c9",
   "metadata": {},
   "outputs": [
    {
     "data": {
      "image/png": "[encoded data removed]",
      "text/plain": [
       "<Figure size 432x288 with 1 Axes>"
      ]
     },
     "metadata": {
      "needs_background": "light"
     },
     "output_type": "display_data"
    }
   ],
   "source": [
    "plt.bar(['YES', 'NO'], [num_yes, num_no])\n",
    "add_value_label(['YES', 'NO'], [num_yes, num_no])"
   ]
  },
  {
   "cell_type": "markdown",
   "id": "d3343682",
   "metadata": {},
   "source": [
    "### Split dataset into x and y"
   ]
  },
  {
   "cell_type": "code",
   "execution_count": 12,
   "id": "c6db02e1",
   "metadata": {},
   "outputs": [],
   "source": [
    "x = df.iloc[:,1:]\n",
    "y = df.iloc[:,:1]"
   ]
  },
  {
   "cell_type": "code",
   "execution_count": 13,
   "id": "db48d6da",
   "metadata": {},
   "outputs": [
    {
     "data": {
      "text/html": [
       "<div>\n",
       "<style scoped>\n",
       "    .dataframe tbody tr th:only-of-type {\n",
       "        vertical-align: middle;\n",
       "    }\n",
       "\n",
       "    .dataframe tbody tr th {\n",
       "        vertical-align: top;\n",
       "    }\n",
       "\n",
       "    .dataframe thead th {\n",
       "        text-align: right;\n",
       "    }\n",
       "</style>\n",
       "<table border=\"1\" class=\"dataframe\">\n",
       "  <thead>\n",
       "    <tr style=\"text-align: right;\">\n",
       "      <th></th>\n",
       "      <th>ROA(C) before interest and depreciation before interest</th>\n",
       "      <th>ROA(A) before interest and % after tax</th>\n",
       "      <th>ROA(B) before interest and depreciation after tax</th>\n",
       "      <th>Operating Gross Margin</th>\n",
       "      <th>Realized Sales Gross Margin</th>\n",
       "      <th>Operating Profit Rate</th>\n",
       "      <th>Pre-tax net Interest Rate</th>\n",
       "      <th>After-tax net Interest Rate</th>\n",
       "      <th>Non-industry income and expenditure/revenue</th>\n",
       "      <th>Continuous interest rate (after tax)</th>\n",
       "      <th>...</th>\n",
       "      <th>Net Income to Total Assets</th>\n",
       "      <th>Total assets to GNP price</th>\n",
       "      <th>No-credit Interval</th>\n",
       "      <th>Gross Profit to Sales</th>\n",
       "      <th>Net Income to Stockholder's Equity</th>\n",
       "      <th>Liability to Equity</th>\n",
       "      <th>Degree of Financial Leverage (DFL)</th>\n",
       "      <th>Interest Coverage Ratio (Interest expense to EBIT)</th>\n",
       "      <th>Net Income Flag</th>\n",
       "      <th>Equity to Liability</th>\n",
       "    </tr>\n",
       "  </thead>\n",
       "  <tbody>\n",
       "    <tr>\n",
       "      <th>0</th>\n",
       "      <td>0.370594</td>\n",
       "      <td>0.424389</td>\n",
       "      <td>0.405750</td>\n",
       "      <td>0.601457</td>\n",
       "      <td>0.601457</td>\n",
       "      <td>0.998969</td>\n",
       "      <td>0.796887</td>\n",
       "      <td>0.808809</td>\n",
       "      <td>0.302646</td>\n",
       "      <td>0.780985</td>\n",
       "      <td>...</td>\n",
       "      <td>0.716845</td>\n",
       "      <td>0.009219</td>\n",
       "      <td>0.622879</td>\n",
       "      <td>0.601453</td>\n",
       "      <td>0.827890</td>\n",
       "      <td>0.290202</td>\n",
       "      <td>0.026601</td>\n",
       "      <td>0.564050</td>\n",
       "      <td>1</td>\n",
       "      <td>0.016469</td>\n",
       "    </tr>\n",
       "    <tr>\n",
       "      <th>1</th>\n",
       "      <td>0.464291</td>\n",
       "      <td>0.538214</td>\n",
       "      <td>0.516730</td>\n",
       "      <td>0.610235</td>\n",
       "      <td>0.610235</td>\n",
       "      <td>0.998946</td>\n",
       "      <td>0.797380</td>\n",
       "      <td>0.809301</td>\n",
       "      <td>0.303556</td>\n",
       "      <td>0.781506</td>\n",
       "      <td>...</td>\n",
       "      <td>0.795297</td>\n",
       "      <td>0.008323</td>\n",
       "      <td>0.623652</td>\n",
       "      <td>0.610237</td>\n",
       "      <td>0.839969</td>\n",
       "      <td>0.283846</td>\n",
       "      <td>0.264577</td>\n",
       "      <td>0.570175</td>\n",
       "      <td>1</td>\n",
       "      <td>0.020794</td>\n",
       "    </tr>\n",
       "    <tr>\n",
       "      <th>2</th>\n",
       "      <td>0.426071</td>\n",
       "      <td>0.499019</td>\n",
       "      <td>0.472295</td>\n",
       "      <td>0.601450</td>\n",
       "      <td>0.601364</td>\n",
       "      <td>0.998857</td>\n",
       "      <td>0.796403</td>\n",
       "      <td>0.808388</td>\n",
       "      <td>0.302035</td>\n",
       "      <td>0.780284</td>\n",
       "      <td>...</td>\n",
       "      <td>0.774670</td>\n",
       "      <td>0.040003</td>\n",
       "      <td>0.623841</td>\n",
       "      <td>0.601449</td>\n",
       "      <td>0.836774</td>\n",
       "      <td>0.290189</td>\n",
       "      <td>0.026555</td>\n",
       "      <td>0.563706</td>\n",
       "      <td>1</td>\n",
       "      <td>0.016474</td>\n",
       "    </tr>\n",
       "    <tr>\n",
       "      <th>3</th>\n",
       "      <td>0.399844</td>\n",
       "      <td>0.451265</td>\n",
       "      <td>0.457733</td>\n",
       "      <td>0.583541</td>\n",
       "      <td>0.583541</td>\n",
       "      <td>0.998700</td>\n",
       "      <td>0.796967</td>\n",
       "      <td>0.808966</td>\n",
       "      <td>0.303350</td>\n",
       "      <td>0.781241</td>\n",
       "      <td>...</td>\n",
       "      <td>0.739555</td>\n",
       "      <td>0.003252</td>\n",
       "      <td>0.622929</td>\n",
       "      <td>0.583538</td>\n",
       "      <td>0.834697</td>\n",
       "      <td>0.281721</td>\n",
       "      <td>0.026697</td>\n",
       "      <td>0.564663</td>\n",
       "      <td>1</td>\n",
       "      <td>0.023982</td>\n",
       "    </tr>\n",
       "    <tr>\n",
       "      <th>4</th>\n",
       "      <td>0.465022</td>\n",
       "      <td>0.538432</td>\n",
       "      <td>0.522298</td>\n",
       "      <td>0.598783</td>\n",
       "      <td>0.598783</td>\n",
       "      <td>0.998973</td>\n",
       "      <td>0.797366</td>\n",
       "      <td>0.809304</td>\n",
       "      <td>0.303475</td>\n",
       "      <td>0.781550</td>\n",
       "      <td>...</td>\n",
       "      <td>0.795016</td>\n",
       "      <td>0.003878</td>\n",
       "      <td>0.623521</td>\n",
       "      <td>0.598782</td>\n",
       "      <td>0.839973</td>\n",
       "      <td>0.278514</td>\n",
       "      <td>0.024752</td>\n",
       "      <td>0.575617</td>\n",
       "      <td>1</td>\n",
       "      <td>0.035490</td>\n",
       "    </tr>\n",
       "  </tbody>\n",
       "</table>\n",
       "<p>5 rows × 95 columns</p>\n",
       "</div>"
      ],
      "text/plain": [
       "    ROA(C) before interest and depreciation before interest  \\\n",
       "0                                           0.370594          \n",
       "1                                           0.464291          \n",
       "2                                           0.426071          \n",
       "3                                           0.399844          \n",
       "4                                           0.465022          \n",
       "\n",
       "    ROA(A) before interest and % after tax  \\\n",
       "0                                 0.424389   \n",
       "1                                 0.538214   \n",
       "2                                 0.499019   \n",
       "3                                 0.451265   \n",
       "4                                 0.538432   \n",
       "\n",
       "    ROA(B) before interest and depreciation after tax  \\\n",
       "0                                           0.405750    \n",
       "1                                           0.516730    \n",
       "2                                           0.472295    \n",
       "3                                           0.457733    \n",
       "4                                           0.522298    \n",
       "\n",
       "    Operating Gross Margin   Realized Sales Gross Margin  \\\n",
       "0                 0.601457                      0.601457   \n",
       "1                 0.610235                      0.610235   \n",
       "2                 0.601450                      0.601364   \n",
       "3                 0.583541                      0.583541   \n",
       "4                 0.598783                      0.598783   \n",
       "\n",
       "    Operating Profit Rate   Pre-tax net Interest Rate  \\\n",
       "0                0.998969                    0.796887   \n",
       "1                0.998946                    0.797380   \n",
       "2                0.998857                    0.796403   \n",
       "3                0.998700                    0.796967   \n",
       "4                0.998973                    0.797366   \n",
       "\n",
       "    After-tax net Interest Rate   Non-industry income and expenditure/revenue  \\\n",
       "0                      0.808809                                      0.302646   \n",
       "1                      0.809301                                      0.303556   \n",
       "2                      0.808388                                      0.302035   \n",
       "3                      0.808966                                      0.303350   \n",
       "4                      0.809304                                      0.303475   \n",
       "\n",
       "    Continuous interest rate (after tax)  ...   Net Income to Total Assets  \\\n",
       "0                               0.780985  ...                     0.716845   \n",
       "1                               0.781506  ...                     0.795297   \n",
       "2                               0.780284  ...                     0.774670   \n",
       "3                               0.781241  ...                     0.739555   \n",
       "4                               0.781550  ...                     0.795016   \n",
       "\n",
       "    Total assets to GNP price   No-credit Interval   Gross Profit to Sales  \\\n",
       "0                    0.009219             0.622879                0.601453   \n",
       "1                    0.008323             0.623652                0.610237   \n",
       "2                    0.040003             0.623841                0.601449   \n",
       "3                    0.003252             0.622929                0.583538   \n",
       "4                    0.003878             0.623521                0.598782   \n",
       "\n",
       "    Net Income to Stockholder's Equity   Liability to Equity  \\\n",
       "0                             0.827890              0.290202   \n",
       "1                             0.839969              0.283846   \n",
       "2                             0.836774              0.290189   \n",
       "3                             0.834697              0.281721   \n",
       "4                             0.839973              0.278514   \n",
       "\n",
       "    Degree of Financial Leverage (DFL)  \\\n",
       "0                             0.026601   \n",
       "1                             0.264577   \n",
       "2                             0.026555   \n",
       "3                             0.026697   \n",
       "4                             0.024752   \n",
       "\n",
       "    Interest Coverage Ratio (Interest expense to EBIT)   Net Income Flag  \\\n",
       "0                                           0.564050                   1   \n",
       "1                                           0.570175                   1   \n",
       "2                                           0.563706                   1   \n",
       "3                                           0.564663                   1   \n",
       "4                                           0.575617                   1   \n",
       "\n",
       "    Equity to Liability  \n",
       "0              0.016469  \n",
       "1              0.020794  \n",
       "2              0.016474  \n",
       "3              0.023982  \n",
       "4              0.035490  \n",
       "\n",
       "[5 rows x 95 columns]"
      ]
     },
     "execution_count": 13,
     "metadata": {},
     "output_type": "execute_result"
    }
   ],
   "source": [
    "x.head()"
   ]
  },
  {
   "cell_type": "code",
   "execution_count": 15,
   "id": "4dd41046",
   "metadata": {},
   "outputs": [
    {
     "data": {
      "text/html": [
       "<div>\n",
       "<style scoped>\n",
       "    .dataframe tbody tr th:only-of-type {\n",
       "        vertical-align: middle;\n",
       "    }\n",
       "\n",
       "    .dataframe tbody tr th {\n",
       "        vertical-align: top;\n",
       "    }\n",
       "\n",
       "    .dataframe thead th {\n",
       "        text-align: right;\n",
       "    }\n",
       "</style>\n",
       "<table border=\"1\" class=\"dataframe\">\n",
       "  <thead>\n",
       "    <tr style=\"text-align: right;\">\n",
       "      <th></th>\n",
       "      <th>Bankrupt?</th>\n",
       "    </tr>\n",
       "  </thead>\n",
       "  <tbody>\n",
       "    <tr>\n",
       "      <th>0</th>\n",
       "      <td>1</td>\n",
       "    </tr>\n",
       "    <tr>\n",
       "      <th>1</th>\n",
       "      <td>1</td>\n",
       "    </tr>\n",
       "    <tr>\n",
       "      <th>2</th>\n",
       "      <td>1</td>\n",
       "    </tr>\n",
       "    <tr>\n",
       "      <th>3</th>\n",
       "      <td>1</td>\n",
       "    </tr>\n",
       "    <tr>\n",
       "      <th>4</th>\n",
       "      <td>1</td>\n",
       "    </tr>\n",
       "  </tbody>\n",
       "</table>\n",
       "</div>"
      ],
      "text/plain": [
       "   Bankrupt?\n",
       "0          1\n",
       "1          1\n",
       "2          1\n",
       "3          1\n",
       "4          1"
      ]
     },
     "execution_count": 15,
     "metadata": {},
     "output_type": "execute_result"
    }
   ],
   "source": [
    "y.head()"
   ]
  },
  {
   "cell_type": "markdown",
   "id": "341d1112",
   "metadata": {},
   "source": [
    "## PCA (for visualization in 2D)"
   ]
  },
  {
   "cell_type": "code",
   "execution_count": 16,
   "id": "f7859054",
   "metadata": {},
   "outputs": [],
   "source": [
    "pca = PCA(n_components=2)"
   ]
  },
  {
   "cell_type": "code",
   "execution_count": 17,
   "id": "10eea488",
   "metadata": {},
   "outputs": [],
   "source": [
    "principalComponents = pca.fit_transform(x)"
   ]
  },
  {
   "cell_type": "code",
   "execution_count": 18,
   "id": "ab66e8ee",
   "metadata": {},
   "outputs": [],
   "source": [
    "pca_df = pd.DataFrame(data = principalComponents, columns = ['pc1', 'pc2'])"
   ]
  },
  {
   "cell_type": "code",
   "execution_count": 19,
   "id": "534bf04f",
   "metadata": {},
   "outputs": [
    {
     "data": {
      "text/html": [
       "<div>\n",
       "<style scoped>\n",
       "    .dataframe tbody tr th:only-of-type {\n",
       "        vertical-align: middle;\n",
       "    }\n",
       "\n",
       "    .dataframe tbody tr th {\n",
       "        vertical-align: top;\n",
       "    }\n",
       "\n",
       "    .dataframe thead th {\n",
       "        text-align: right;\n",
       "    }\n",
       "</style>\n",
       "<table border=\"1\" class=\"dataframe\">\n",
       "  <thead>\n",
       "    <tr style=\"text-align: right;\">\n",
       "      <th></th>\n",
       "      <th>pc1</th>\n",
       "      <th>pc2</th>\n",
       "    </tr>\n",
       "  </thead>\n",
       "  <tbody>\n",
       "    <tr>\n",
       "      <th>0</th>\n",
       "      <td>2.165330e+09</td>\n",
       "      <td>-3.814949e+07</td>\n",
       "    </tr>\n",
       "    <tr>\n",
       "      <th>1</th>\n",
       "      <td>4.902366e+08</td>\n",
       "      <td>8.463795e+09</td>\n",
       "    </tr>\n",
       "    <tr>\n",
       "      <th>2</th>\n",
       "      <td>-2.620138e+09</td>\n",
       "      <td>-2.169966e+09</td>\n",
       "    </tr>\n",
       "    <tr>\n",
       "      <th>3</th>\n",
       "      <td>3.249284e+09</td>\n",
       "      <td>5.987899e+09</td>\n",
       "    </tr>\n",
       "    <tr>\n",
       "      <th>4</th>\n",
       "      <td>7.604602e+09</td>\n",
       "      <td>-2.951427e+09</td>\n",
       "    </tr>\n",
       "  </tbody>\n",
       "</table>\n",
       "</div>"
      ],
      "text/plain": [
       "            pc1           pc2\n",
       "0  2.165330e+09 -3.814949e+07\n",
       "1  4.902366e+08  8.463795e+09\n",
       "2 -2.620138e+09 -2.169966e+09\n",
       "3  3.249284e+09  5.987899e+09\n",
       "4  7.604602e+09 -2.951427e+09"
      ]
     },
     "execution_count": 19,
     "metadata": {},
     "output_type": "execute_result"
    }
   ],
   "source": [
    "pca_df.head()"
   ]
  },
  {
   "cell_type": "code",
   "execution_count": 20,
   "id": "b728d204",
   "metadata": {},
   "outputs": [],
   "source": [
    "final_df = pd.concat([pca_df, y], axis = 1)"
   ]
  },
  {
   "cell_type": "code",
   "execution_count": 21,
   "id": "21428059",
   "metadata": {},
   "outputs": [
    {
     "data": {
      "text/html": [
       "<div>\n",
       "<style scoped>\n",
       "    .dataframe tbody tr th:only-of-type {\n",
       "        vertical-align: middle;\n",
       "    }\n",
       "\n",
       "    .dataframe tbody tr th {\n",
       "        vertical-align: top;\n",
       "    }\n",
       "\n",
       "    .dataframe thead th {\n",
       "        text-align: right;\n",
       "    }\n",
       "</style>\n",
       "<table border=\"1\" class=\"dataframe\">\n",
       "  <thead>\n",
       "    <tr style=\"text-align: right;\">\n",
       "      <th></th>\n",
       "      <th>pc1</th>\n",
       "      <th>pc2</th>\n",
       "      <th>Bankrupt?</th>\n",
       "    </tr>\n",
       "  </thead>\n",
       "  <tbody>\n",
       "    <tr>\n",
       "      <th>0</th>\n",
       "      <td>2.165330e+09</td>\n",
       "      <td>-3.814949e+07</td>\n",
       "      <td>1</td>\n",
       "    </tr>\n",
       "    <tr>\n",
       "      <th>1</th>\n",
       "      <td>4.902366e+08</td>\n",
       "      <td>8.463795e+09</td>\n",
       "      <td>1</td>\n",
       "    </tr>\n",
       "    <tr>\n",
       "      <th>2</th>\n",
       "      <td>-2.620138e+09</td>\n",
       "      <td>-2.169966e+09</td>\n",
       "      <td>1</td>\n",
       "    </tr>\n",
       "    <tr>\n",
       "      <th>3</th>\n",
       "      <td>3.249284e+09</td>\n",
       "      <td>5.987899e+09</td>\n",
       "      <td>1</td>\n",
       "    </tr>\n",
       "    <tr>\n",
       "      <th>4</th>\n",
       "      <td>7.604602e+09</td>\n",
       "      <td>-2.951427e+09</td>\n",
       "      <td>1</td>\n",
       "    </tr>\n",
       "  </tbody>\n",
       "</table>\n",
       "</div>"
      ],
      "text/plain": [
       "            pc1           pc2  Bankrupt?\n",
       "0  2.165330e+09 -3.814949e+07          1\n",
       "1  4.902366e+08  8.463795e+09          1\n",
       "2 -2.620138e+09 -2.169966e+09          1\n",
       "3  3.249284e+09  5.987899e+09          1\n",
       "4  7.604602e+09 -2.951427e+09          1"
      ]
     },
     "execution_count": 21,
     "metadata": {},
     "output_type": "execute_result"
    }
   ],
   "source": [
    "final_df.head()"
   ]
  },
  {
   "cell_type": "code",
   "execution_count": 134,
   "id": "91819c07",
   "metadata": {},
   "outputs": [
    {
     "data": {
      "image/png": "[encoded data removed]",
      "text/plain": [
       "<Figure size 576x576 with 1 Axes>"
      ]
     },
     "metadata": {
      "needs_background": "light"
     },
     "output_type": "display_data"
    }
   ],
   "source": [
    "fig = plt.figure(figsize = (12,12))\n",
    "ax = fig.add_subplot(1,1,1) \n",
    "ax.set_xlabel('PC1', fontsize = 15)\n",
    "ax.set_ylabel('PC2', fontsize = 15)\n",
    "ax.set_title('2 component PCA', fontsize = 20)\n",
    "\n",
    "bankrupt_idx = final_df['Bankrupt?'] == 1\n",
    "non_bankrupt_idx = final_df['Bankrupt?'] == 0\n",
    "\n",
    "ax.scatter(final_df.loc[bankrupt_idx, 'pc1'], final_df.loc[bankrupt_idx, 'pc2'], c = 'r', s = 25, marker='s')\n",
    "ax.scatter(final_df.loc[non_bankrupt_idx, 'pc1'], final_df.loc[non_bankrupt_idx, 'pc2'], c = 'b', s = 5)\n",
    "\n",
    "ax.legend(['Bankrupt', 'Non-bankrupt'])\n",
    "ax.grid()"
   ]
  },
  {
   "cell_type": "code",
   "execution_count": 178,
   "id": "85e74b46",
   "metadata": {},
   "outputs": [],
   "source": [
    "results = {}"
   ]
  },
  {
   "cell_type": "markdown",
   "id": "cf6289a7",
   "metadata": {},
   "source": [
    "# Logistic Regression"
   ]
  },
  {
   "cell_type": "code",
   "execution_count": 99,
   "id": "e5b70af9",
   "metadata": {},
   "outputs": [],
   "source": [
    "from sklearn.model_selection import train_test_split \n",
    "from sklearn.linear_model import LogisticRegression \n",
    "from sklearn.preprocessing import StandardScaler \n",
    "from sklearn.metrics import confusion_matrix, classification_report, f1_score\n",
    "from sklearn.ensemble import RandomForestClassifier\n"
   ]
  },
  {
   "cell_type": "code",
   "execution_count": 201,
   "id": "ceced57b",
   "metadata": {},
   "outputs": [],
   "source": [
    "def logistic_regression(X, y, val_ratio=0.3, name='default'):\n",
    "    global results\n",
    "    \n",
    "    # split data\n",
    "    X_train, X_test, y_train, y_test = train_test_split(X, y, test_size = val_ratio) \n",
    "    \n",
    "    # model\n",
    "    reg = LogisticRegression() \n",
    "    reg.fit(X_train.to_numpy(), y_train.to_numpy().ravel()) \n",
    "    y_pred = reg.predict(X_test.to_numpy())  \n",
    "    print(\"CONFUSION MATRIX:\\n\", confusion_matrix(y_test.to_numpy(), y_pred), '\\n')\n",
    "    print(\"OTHER METRICS:\\n\", classification_report(y_test.to_numpy(), y_pred))\n",
    "    \n",
    "    f1 = f1_score(y_test.to_numpy(), y_pred.astype('int64'), zero_division=1)\n",
    "    results[len(results.items())] = ['logistic_regression_' + name, f1, len(y)]"
   ]
  },
  {
   "cell_type": "code",
   "execution_count": 202,
   "id": "5c5090d8",
   "metadata": {},
   "outputs": [
    {
     "name": "stdout",
     "output_type": "stream",
     "text": [
      "CONFUSION MATRIX:\n",
      " [[1978    5]\n",
      " [  63    0]] \n",
      "\n",
      "OTHER METRICS:\n",
      "               precision    recall  f1-score   support\n",
      "\n",
      "           0       0.97      1.00      0.98      1983\n",
      "           1       0.00      0.00      0.00        63\n",
      "\n",
      "    accuracy                           0.97      2046\n",
      "   macro avg       0.48      0.50      0.49      2046\n",
      "weighted avg       0.94      0.97      0.95      2046\n",
      "\n"
     ]
    },
    {
     "name": "stderr",
     "output_type": "stream",
     "text": [
      "c:\\users\\maksym shvets\\appdata\\local\\programs\\python\\python36\\lib\\site-packages\\sklearn\\linear_model\\_logistic.py:765: ConvergenceWarning: lbfgs failed to converge (status=1):\n",
      "STOP: TOTAL NO. of ITERATIONS REACHED LIMIT.\n",
      "\n",
      "Increase the number of iterations (max_iter) or scale the data as shown in:\n",
      "    https://scikit-learn.org/stable/modules/preprocessing.html\n",
      "Please also refer to the documentation for alternative solver options:\n",
      "    https://scikit-learn.org/stable/modules/linear_model.html#logistic-regression\n",
      "  extra_warning_msg=_LOGISTIC_SOLVER_CONVERGENCE_MSG)\n"
     ]
    }
   ],
   "source": [
    "logistic_regression(X=x, y=y)"
   ]
  },
  {
   "cell_type": "markdown",
   "id": "c186a39e",
   "metadata": {},
   "source": [
    "# Random Forest"
   ]
  },
  {
   "cell_type": "code",
   "execution_count": 203,
   "id": "de115a59",
   "metadata": {},
   "outputs": [],
   "source": [
    "def RandomForest(X, y, val_ratio=0.3, name='default'):\n",
    "    global results\n",
    "    # split data\n",
    "    X_train, X_test, y_train, y_test = train_test_split(X, y, test_size = val_ratio) \n",
    "    \n",
    "    # model\n",
    "    rf = RandomForestClassifier(max_depth=4, random_state=0)\n",
    "    rf.fit(X_train.to_numpy(), y_train.to_numpy().ravel())\n",
    "\n",
    "    y_pred = rf.predict(X_test.to_numpy())  \n",
    "    print(\"CONFUSION MATRIX:\\n\", confusion_matrix(y_test.to_numpy(), y_pred), '\\n')\n",
    "    print(\"OTHER METRICS:\\n\", classification_report(y_test.to_numpy(), y_pred))\n",
    "    \n",
    "    f1 = f1_score(y_test.to_numpy(), y_pred.astype('int64'), zero_division=1)\n",
    "    results[len(results.items())] = ['RandomForest' + name, f1, len(y)]"
   ]
  },
  {
   "cell_type": "code",
   "execution_count": 204,
   "id": "64c04f1a",
   "metadata": {},
   "outputs": [
    {
     "name": "stdout",
     "output_type": "stream",
     "text": [
      "CONFUSION MATRIX:\n",
      " [[1980    3]\n",
      " [  57    6]] \n",
      "\n",
      "OTHER METRICS:\n",
      "               precision    recall  f1-score   support\n",
      "\n",
      "           0       0.97      1.00      0.99      1983\n",
      "           1       0.67      0.10      0.17        63\n",
      "\n",
      "    accuracy                           0.97      2046\n",
      "   macro avg       0.82      0.55      0.58      2046\n",
      "weighted avg       0.96      0.97      0.96      2046\n",
      "\n"
     ]
    }
   ],
   "source": [
    "RandomForest(X=x, y=y)"
   ]
  },
  {
   "cell_type": "markdown",
   "id": "90cf3aa3",
   "metadata": {},
   "source": [
    "# Neural Network"
   ]
  },
  {
   "cell_type": "code",
   "execution_count": 205,
   "id": "59df62f6",
   "metadata": {},
   "outputs": [],
   "source": [
    "import tensorflow as tf"
   ]
  },
  {
   "cell_type": "code",
   "execution_count": 1,
   "id": "a31412bb",
   "metadata": {},
   "outputs": [],
   "source": [
    "def nn(X, y, val_ratio=0.3, name='default'):\n",
    "    global results\n",
    "    \n",
    "    # split data\n",
    "    while True:\n",
    "        X_train, X_test, y_train, y_test = train_test_split(X, y, test_size = val_ratio) \n",
    "        if all(np.unique(y_test, return_counts=True)[1] > 50):\n",
    "            break\n",
    "    \n",
    "    opt = tf.keras.optimizers.Adam(learning_rate=0.001)\n",
    "    \n",
    "    # model\n",
    "    model = tf.keras.Sequential()\n",
    "    model.add(tf.keras.layers.Dense(64, input_shape=(95,), activation='relu'))\n",
    "    model.add(tf.keras.layers.Dense(128, activation='relu'))\n",
    "    model.add(tf.keras.layers.Dense(1, activation='sigmoid'))\n",
    "    model.compile(loss='binary_crossentropy', optimizer=opt, metrics=['binary_accuracy', 'AUC'])\n",
    "    model.fit(X_train.to_numpy(), y_train.to_numpy(), \n",
    "              validation_data=(X_test, y_test), batch_size=64, epochs=30)\n",
    "    \n",
    "    y_pred = model.predict(X_test)\n",
    "    matrix = confusion_matrix(y_test.to_numpy(), y_pred.astype('int64'))\n",
    "    print(\"\\nConfusion matrix: \\n\", matrix)\n",
    "    \n",
    "    f1 = f1_score(y_test.to_numpy(), y_pred.astype('int64'), zero_division=1)\n",
    "    results[len(results.items())] = ['Neural_Network' + name, f1, len(y)]\n",
    "    print(\"\\nF1 Score:\", f1)"
   ]
  },
  {
   "cell_type": "code",
   "execution_count": 207,
   "id": "54fbfe83",
   "metadata": {},
   "outputs": [
    {
     "name": "stdout",
     "output_type": "stream",
     "text": [
      "Epoch 1/30\n",
      "75/75 [==============================] - 0s 2ms/step - loss: 17961142.0000 - accuracy: 0.9367 - val_loss: 5493661.5000 - val_accuracy: 0.9560\n",
      "Epoch 2/30\n",
      "75/75 [==============================] - 0s 1ms/step - loss: 5145105.0000 - accuracy: 0.9455 - val_loss: 4258626.0000 - val_accuracy: 0.9203\n",
      "Epoch 3/30\n",
      "75/75 [==============================] - 0s 1ms/step - loss: 3763994.7500 - accuracy: 0.9445 - val_loss: 3764046.2500 - val_accuracy: 0.9497\n",
      "Epoch 4/30\n",
      "75/75 [==============================] - 0s 1ms/step - loss: 2482746.0000 - accuracy: 0.9485 - val_loss: 2956225.5000 - val_accuracy: 0.9501\n",
      "Epoch 5/30\n",
      "75/75 [==============================] - 0s 1ms/step - loss: 2145145.0000 - accuracy: 0.9495 - val_loss: 3226495.7500 - val_accuracy: 0.9497\n",
      "Epoch 6/30\n",
      "75/75 [==============================] - 0s 1ms/step - loss: 2903697.5000 - accuracy: 0.9489 - val_loss: 3440185.5000 - val_accuracy: 0.9585\n",
      "Epoch 7/30\n",
      "75/75 [==============================] - 0s 1ms/step - loss: 2654138.0000 - accuracy: 0.9506 - val_loss: 4870089.5000 - val_accuracy: 0.8812\n",
      "Epoch 8/30\n",
      "75/75 [==============================] - 0s 1ms/step - loss: 1920886.2500 - accuracy: 0.9503 - val_loss: 4741935.5000 - val_accuracy: 0.9673\n",
      "Epoch 9/30\n",
      "75/75 [==============================] - 0s 1ms/step - loss: 1950676.2500 - accuracy: 0.9516 - val_loss: 2975546.0000 - val_accuracy: 0.9545\n",
      "Epoch 10/30\n",
      "75/75 [==============================] - 0s 1ms/step - loss: 1483091.1250 - accuracy: 0.9558 - val_loss: 3610675.7500 - val_accuracy: 0.8651\n",
      "Epoch 11/30\n",
      "75/75 [==============================] - 0s 1ms/step - loss: 1672306.5000 - accuracy: 0.9518 - val_loss: 2649895.7500 - val_accuracy: 0.9467\n",
      "Epoch 12/30\n",
      "75/75 [==============================] - 0s 1ms/step - loss: 1526825.3750 - accuracy: 0.9537 - val_loss: 2451077.5000 - val_accuracy: 0.9604\n",
      "Epoch 13/30\n",
      "75/75 [==============================] - 0s 1ms/step - loss: 1378307.2500 - accuracy: 0.9562 - val_loss: 2790277.2500 - val_accuracy: 0.9379\n",
      "Epoch 14/30\n",
      "75/75 [==============================] - 0s 1ms/step - loss: 1430539.0000 - accuracy: 0.9552 - val_loss: 4571109.5000 - val_accuracy: 0.8519\n",
      "Epoch 15/30\n",
      "75/75 [==============================] - 0s 1ms/step - loss: 1344119.2500 - accuracy: 0.9537 - val_loss: 2740044.0000 - val_accuracy: 0.9203\n",
      "Epoch 16/30\n",
      "75/75 [==============================] - 0s 1ms/step - loss: 1375213.7500 - accuracy: 0.9579 - val_loss: 3102751.2500 - val_accuracy: 0.9316\n",
      "Epoch 17/30\n",
      "75/75 [==============================] - 0s 1ms/step - loss: 1178725.3750 - accuracy: 0.9573 - val_loss: 2714839.5000 - val_accuracy: 0.9360\n",
      "Epoch 18/30\n",
      "75/75 [==============================] - 0s 1ms/step - loss: 1551330.6250 - accuracy: 0.9539 - val_loss: 3110055.7500 - val_accuracy: 0.9580\n",
      "Epoch 19/30\n",
      "75/75 [==============================] - 0s 1ms/step - loss: 1505768.2500 - accuracy: 0.9550 - val_loss: 3554726.2500 - val_accuracy: 0.9511\n",
      "Epoch 20/30\n",
      "75/75 [==============================] - 0s 1ms/step - loss: 1173081.0000 - accuracy: 0.9583 - val_loss: 2249411.7500 - val_accuracy: 0.9619\n",
      "Epoch 21/30\n",
      "75/75 [==============================] - 0s 1ms/step - loss: 919340.3750 - accuracy: 0.9585 - val_loss: 1949511.0000 - val_accuracy: 0.9619\n",
      "Epoch 22/30\n",
      "75/75 [==============================] - 0s 1ms/step - loss: 1082211.0000 - accuracy: 0.9589 - val_loss: 2808179.7500 - val_accuracy: 0.9638\n",
      "Epoch 23/30\n",
      "75/75 [==============================] - 0s 1ms/step - loss: 1274953.0000 - accuracy: 0.9537 - val_loss: 2473720.2500 - val_accuracy: 0.9306\n",
      "Epoch 24/30\n",
      "75/75 [==============================] - 0s 1ms/step - loss: 1143319.7500 - accuracy: 0.9543 - val_loss: 2117766.5000 - val_accuracy: 0.9570\n",
      "Epoch 25/30\n",
      "75/75 [==============================] - 0s 1ms/step - loss: 825137.8125 - accuracy: 0.9587 - val_loss: 2166478.2500 - val_accuracy: 0.9247\n",
      "Epoch 26/30\n",
      "75/75 [==============================] - 0s 1ms/step - loss: 922594.6875 - accuracy: 0.9577 - val_loss: 2192266.0000 - val_accuracy: 0.9218\n",
      "Epoch 27/30\n",
      "75/75 [==============================] - 0s 1ms/step - loss: 860586.6875 - accuracy: 0.9591 - val_loss: 3804598.7500 - val_accuracy: 0.8006\n",
      "Epoch 28/30\n",
      "75/75 [==============================] - 0s 1ms/step - loss: 1003595.0000 - accuracy: 0.9573 - val_loss: 1736788.2500 - val_accuracy: 0.9604\n",
      "Epoch 29/30\n",
      "75/75 [==============================] - 0s 1ms/step - loss: 608087.8125 - accuracy: 0.9631 - val_loss: 1932108.2500 - val_accuracy: 0.9433\n",
      "Epoch 30/30\n",
      "75/75 [==============================] - 0s 1ms/step - loss: 957701.3125 - accuracy: 0.9585 - val_loss: 1989633.5000 - val_accuracy: 0.9526\n",
      "\n",
      "Confusion matrix: \n",
      " [[1940   41]\n",
      " [  56    9]]\n",
      "\n",
      "F1 Score: 0.15652173913043477\n"
     ]
    }
   ],
   "source": [
    "nn(X=x, y=y)"
   ]
  },
  {
   "cell_type": "markdown",
   "id": "23a93757",
   "metadata": {},
   "source": [
    "# UNDERSAMPLING TECHNIQUES"
   ]
  },
  {
   "cell_type": "markdown",
   "id": "904cc302",
   "metadata": {},
   "source": [
    "## 1. NEAR-MISS"
   ]
  },
  {
   "cell_type": "code",
   "execution_count": 37,
   "id": "1d00a590",
   "metadata": {},
   "outputs": [
    {
     "name": "stdout",
     "output_type": "stream",
     "text": [
      "Collecting imbalanced-learn\n",
      "  Using cached imbalanced_learn-0.9.0-py3-none-any.whl (199 kB)\n",
      "  Downloading imbalanced_learn-0.8.1-py3-none-any.whl (189 kB)\n",
      "Requirement already satisfied: scikit-learn>=0.24 in c:\\users\\maksym shvets\\appdata\\local\\programs\\python\\python36\\lib\\site-packages (from imbalanced-learn) (0.24.2)\n",
      "Requirement already satisfied: scipy>=0.19.1 in c:\\users\\maksym shvets\\appdata\\local\\programs\\python\\python36\\lib\\site-packages (from imbalanced-learn) (1.5.4)\n",
      "Requirement already satisfied: numpy>=1.13.3 in c:\\users\\maksym shvets\\appdata\\local\\programs\\python\\python36\\lib\\site-packages (from imbalanced-learn) (1.19.5)\n",
      "Requirement already satisfied: joblib>=0.11 in c:\\users\\maksym shvets\\appdata\\local\\programs\\python\\python36\\lib\\site-packages (from imbalanced-learn) (1.0.1)\n",
      "Requirement already satisfied: threadpoolctl>=2.0.0 in c:\\users\\maksym shvets\\appdata\\local\\programs\\python\\python36\\lib\\site-packages (from scikit-learn>=0.24->imbalanced-learn) (2.2.0)\n",
      "Installing collected packages: imbalanced-learn\n",
      "Successfully installed imbalanced-learn-0.8.1\n"
     ]
    }
   ],
   "source": [
    "import sys\n",
    "# !\"{sys.executable}\" -m pip install --upgrade pip\n",
    "!\"{sys.executable}\" -m pip install imbalanced-learn"
   ]
  },
  {
   "cell_type": "code",
   "execution_count": 34,
   "id": "2a3f3cfd",
   "metadata": {},
   "outputs": [],
   "source": [
    "from imblearn.under_sampling import NearMiss"
   ]
  },
  {
   "cell_type": "markdown",
   "id": "a291ae58",
   "metadata": {},
   "source": [
    "The algorithm balances the data by looking at the class distribution and randomly eliminating samples from the larger class. When two points belonging to different classes are very close to each other in the distribution, this algorithm eliminates the datapoint of the larger class thereby trying to balance the distribution. "
   ]
  },
  {
   "cell_type": "markdown",
   "id": "530bf183",
   "metadata": {},
   "source": [
    "### NearMiss has 3 versions:\n",
    "\n",
    "Version 1: In the first version, the data is balanced by calculating the average minimum distance between the larger distribution and three closest smaller distributions.\n",
    "\n",
    "Version 2: Here, the data is balanced by calculating the average minimum distance between the larger distribution and three furthest smaller distributions. \n",
    "\n",
    "Version 3: Here, the smaller class instances are considered and m neighbours are stored. Then the distance between this and the larger distribution is taken and the largest distance is eliminated. "
   ]
  },
  {
   "cell_type": "code",
   "execution_count": 233,
   "id": "64b28f33",
   "metadata": {},
   "outputs": [
    {
     "name": "stdout",
     "output_type": "stream",
     "text": [
      "[(0, 220), (1, 220)]\n"
     ]
    }
   ],
   "source": [
    "nm = NearMiss(version=2)\n",
    "X_near, Y_near = nm.fit_resample(x.to_numpy(), y.to_numpy())\n",
    "print(sorted(Counter(Y_near).items()))"
   ]
  },
  {
   "cell_type": "code",
   "execution_count": 234,
   "id": "53353b64",
   "metadata": {},
   "outputs": [],
   "source": [
    "X_NearMiss = pd.DataFrame(X_near)\n",
    "y_NearMiss = pd.DataFrame(Y_near, columns=['Bankrupt?'])\n",
    "\n",
    "# PCA\n",
    "principalComponents = pca.fit_transform(X_NearMiss)\n",
    "pca_NearMiss = pd.DataFrame(data = principalComponents, columns = ['pc1', 'pc2'])"
   ]
  },
  {
   "cell_type": "code",
   "execution_count": 235,
   "id": "230facc2",
   "metadata": {},
   "outputs": [
    {
     "data": {
      "image/png": "[encoded data removed]",
      "text/plain": [
       "<Figure size 576x576 with 1 Axes>"
      ]
     },
     "metadata": {
      "needs_background": "light"
     },
     "output_type": "display_data"
    }
   ],
   "source": [
    "fig = plt.figure(figsize = (8,8))\n",
    "ax = fig.add_subplot(1,1,1) \n",
    "ax.set_xlabel('PC1', fontsize = 15)\n",
    "ax.set_ylabel('PC2', fontsize = 15)\n",
    "ax.set_title('2 component PCA with NearMiss version=1', fontsize = 20)\n",
    "\n",
    "bankrupt_idx = np.where(Y_near == 1)[0]\n",
    "non_bankrupt_idx = np.where(Y_near == 0)[0]\n",
    "\n",
    "ax.scatter(pca_NearMiss.loc[bankrupt_idx, 'pc1'], pca_NearMiss.loc[bankrupt_idx, 'pc2'], c = 'r', s = 15, marker='s')\n",
    "ax.scatter(pca_NearMiss.loc[non_bankrupt_idx, 'pc1'], pca_NearMiss.loc[non_bankrupt_idx, 'pc2'], c = 'b', s = 25)\n",
    "\n",
    "ax.legend(['Bankrupt', 'Non-bankrupt'])\n",
    "ax.grid()"
   ]
  },
  {
   "cell_type": "code",
   "execution_count": 236,
   "id": "e797853e",
   "metadata": {},
   "outputs": [
    {
     "name": "stdout",
     "output_type": "stream",
     "text": [
      "CONFUSION MATRIX:\n",
      " [[55 20]\n",
      " [25 32]] \n",
      "\n",
      "OTHER METRICS:\n",
      "               precision    recall  f1-score   support\n",
      "\n",
      "           0       0.69      0.73      0.71        75\n",
      "           1       0.62      0.56      0.59        57\n",
      "\n",
      "    accuracy                           0.66       132\n",
      "   macro avg       0.65      0.65      0.65       132\n",
      "weighted avg       0.66      0.66      0.66       132\n",
      "\n"
     ]
    }
   ],
   "source": [
    "logistic_regression(X=X_NearMiss, y=y_NearMiss, name='near_miss')"
   ]
  },
  {
   "cell_type": "code",
   "execution_count": 239,
   "id": "a8160f97",
   "metadata": {},
   "outputs": [
    {
     "name": "stdout",
     "output_type": "stream",
     "text": [
      "CONFUSION MATRIX:\n",
      " [[56 16]\n",
      " [ 8 52]] \n",
      "\n",
      "OTHER METRICS:\n",
      "               precision    recall  f1-score   support\n",
      "\n",
      "           0       0.88      0.78      0.82        72\n",
      "           1       0.76      0.87      0.81        60\n",
      "\n",
      "    accuracy                           0.82       132\n",
      "   macro avg       0.82      0.82      0.82       132\n",
      "weighted avg       0.82      0.82      0.82       132\n",
      "\n"
     ]
    }
   ],
   "source": [
    "RandomForest(X=X_NearMiss, y=y_NearMiss, name='near_miss')"
   ]
  },
  {
   "cell_type": "code",
   "execution_count": 238,
   "id": "c7591748",
   "metadata": {},
   "outputs": [
    {
     "name": "stdout",
     "output_type": "stream",
     "text": [
      "Epoch 1/30\n",
      "5/5 [==============================] - 1s 47ms/step - loss: 85991392.0000 - accuracy: 0.6006 - val_loss: 48734648.0000 - val_accuracy: 0.6212\n",
      "Epoch 2/30\n",
      "5/5 [==============================] - 0s 10ms/step - loss: 38183964.0000 - accuracy: 0.6883 - val_loss: 49006648.0000 - val_accuracy: 0.7121\n",
      "Epoch 3/30\n",
      "5/5 [==============================] - 0s 13ms/step - loss: 24247676.0000 - accuracy: 0.7955 - val_loss: 28485640.0000 - val_accuracy: 0.7652\n",
      "Epoch 4/30\n",
      "5/5 [==============================] - 0s 11ms/step - loss: 15017178.0000 - accuracy: 0.8312 - val_loss: 24997280.0000 - val_accuracy: 0.7576\n",
      "Epoch 5/30\n",
      "5/5 [==============================] - 0s 14ms/step - loss: 11254309.0000 - accuracy: 0.8182 - val_loss: 20026678.0000 - val_accuracy: 0.8182\n",
      "Epoch 6/30\n",
      "5/5 [==============================] - 0s 14ms/step - loss: 9471026.0000 - accuracy: 0.8636 - val_loss: 22261434.0000 - val_accuracy: 0.7803\n",
      "Epoch 7/30\n",
      "5/5 [==============================] - 0s 15ms/step - loss: 7045544.5000 - accuracy: 0.8636 - val_loss: 19205694.0000 - val_accuracy: 0.8106\n",
      "Epoch 8/30\n",
      "5/5 [==============================] - 0s 13ms/step - loss: 5665311.5000 - accuracy: 0.8701 - val_loss: 16268143.0000 - val_accuracy: 0.8106\n",
      "Epoch 9/30\n",
      "5/5 [==============================] - 0s 11ms/step - loss: 3382610.7500 - accuracy: 0.8864 - val_loss: 17506514.0000 - val_accuracy: 0.8258\n",
      "Epoch 10/30\n",
      "5/5 [==============================] - 0s 15ms/step - loss: 5144281.0000 - accuracy: 0.8701 - val_loss: 17577056.0000 - val_accuracy: 0.7879\n",
      "Epoch 11/30\n",
      "5/5 [==============================] - 0s 12ms/step - loss: 5501582.0000 - accuracy: 0.8701 - val_loss: 19295584.0000 - val_accuracy: 0.8106\n",
      "Epoch 12/30\n",
      "5/5 [==============================] - 0s 11ms/step - loss: 4008610.5000 - accuracy: 0.8896 - val_loss: 15711300.0000 - val_accuracy: 0.8258\n",
      "Epoch 13/30\n",
      "5/5 [==============================] - 0s 11ms/step - loss: 3775370.7500 - accuracy: 0.9058 - val_loss: 15573163.0000 - val_accuracy: 0.8182\n",
      "Epoch 14/30\n",
      "5/5 [==============================] - 0s 10ms/step - loss: 2084615.2500 - accuracy: 0.9123 - val_loss: 17168174.0000 - val_accuracy: 0.8030\n",
      "Epoch 15/30\n",
      "5/5 [==============================] - 0s 11ms/step - loss: 1688828.6250 - accuracy: 0.9351 - val_loss: 17081712.0000 - val_accuracy: 0.7727\n",
      "Epoch 16/30\n",
      "5/5 [==============================] - 0s 15ms/step - loss: 710894.4375 - accuracy: 0.9578 - val_loss: 16755856.0000 - val_accuracy: 0.7955\n",
      "Epoch 17/30\n",
      "5/5 [==============================] - 0s 10ms/step - loss: 954957.5000 - accuracy: 0.9545 - val_loss: 17156834.0000 - val_accuracy: 0.8030\n",
      "Epoch 18/30\n",
      "5/5 [==============================] - 0s 11ms/step - loss: 751144.8125 - accuracy: 0.9545 - val_loss: 17639692.0000 - val_accuracy: 0.7727\n",
      "Epoch 19/30\n",
      "5/5 [==============================] - 0s 14ms/step - loss: 576619.2500 - accuracy: 0.9578 - val_loss: 16908734.0000 - val_accuracy: 0.7652\n",
      "Epoch 20/30\n",
      "5/5 [==============================] - 0s 11ms/step - loss: 330764.0000 - accuracy: 0.9643 - val_loss: 17653260.0000 - val_accuracy: 0.7803\n",
      "Epoch 21/30\n",
      "5/5 [==============================] - 0s 13ms/step - loss: 463133.0938 - accuracy: 0.9513 - val_loss: 17730592.0000 - val_accuracy: 0.7727\n",
      "Epoch 22/30\n",
      "5/5 [==============================] - 0s 14ms/step - loss: 508678.8438 - accuracy: 0.9545 - val_loss: 16899284.0000 - val_accuracy: 0.7879\n",
      "Epoch 23/30\n",
      "5/5 [==============================] - 0s 14ms/step - loss: 1265725.1250 - accuracy: 0.9513 - val_loss: 16882460.0000 - val_accuracy: 0.8182\n",
      "Epoch 24/30\n",
      "5/5 [==============================] - 0s 14ms/step - loss: 668986.3125 - accuracy: 0.9643 - val_loss: 17060308.0000 - val_accuracy: 0.7727\n",
      "Epoch 25/30\n",
      "5/5 [==============================] - 0s 13ms/step - loss: 1100676.1250 - accuracy: 0.9416 - val_loss: 18778030.0000 - val_accuracy: 0.7879\n",
      "Epoch 26/30\n",
      "5/5 [==============================] - 0s 14ms/step - loss: 1293848.7500 - accuracy: 0.9253 - val_loss: 17951352.0000 - val_accuracy: 0.7955\n",
      "Epoch 27/30\n",
      "5/5 [==============================] - 0s 13ms/step - loss: 569030.5625 - accuracy: 0.9610 - val_loss: 18565410.0000 - val_accuracy: 0.7803\n",
      "Epoch 28/30\n",
      "5/5 [==============================] - 0s 13ms/step - loss: 406223.4062 - accuracy: 0.9675 - val_loss: 16550642.0000 - val_accuracy: 0.7955\n",
      "Epoch 29/30\n",
      "5/5 [==============================] - 0s 13ms/step - loss: 440566.8125 - accuracy: 0.9643 - val_loss: 16614683.0000 - val_accuracy: 0.7576\n",
      "Epoch 30/30\n",
      "5/5 [==============================] - 0s 14ms/step - loss: 784389.9375 - accuracy: 0.9545 - val_loss: 17708636.0000 - val_accuracy: 0.7803\n",
      "\n",
      "Confusion matrix: \n",
      " [[50 11]\n",
      " [18 53]]\n",
      "\n",
      "F1 Score: 0.7851851851851853\n"
     ]
    }
   ],
   "source": [
    "nn(X=X_NearMiss, y=y_NearMiss, name='near_miss')"
   ]
  },
  {
   "cell_type": "markdown",
   "id": "3d81da3f",
   "metadata": {},
   "source": [
    "## 2. Condensed Nearest Neighbor Rule Undersampling"
   ]
  },
  {
   "cell_type": "code",
   "execution_count": 54,
   "id": "cf9d302f",
   "metadata": {},
   "outputs": [],
   "source": [
    "from imblearn.under_sampling import CondensedNearestNeighbour "
   ]
  },
  {
   "cell_type": "markdown",
   "id": "8a2dd3cb",
   "metadata": {},
   "source": [
    "In the Condensed Nearest neighbor method, the aim is to choose a subset of a collection of samples\n",
    "that results in no loss in model performance. The method requires many passes over the training data\n",
    "which can make Condensed Nearest Neighbor a slower method compared to others (More, 2016). The\n",
    "method works by numerating the examples in the dataset and adding them in a so called “store”.\n",
    "However, this is done only if they cannot be classified correctly by the current contents of the “store”\n",
    "(Hart, 1968)"
   ]
  },
  {
   "cell_type": "code",
   "execution_count": 53,
   "id": "3bc33f33",
   "metadata": {},
   "outputs": [],
   "source": [
    "cnn = CondensedNearestNeighbour(random_state=33) \n",
    "X_cnn, y_cnn = cnn.fit_resample(x.to_numpy(), y.to_numpy()) "
   ]
  },
  {
   "cell_type": "code",
   "execution_count": 67,
   "id": "a5ccbb14",
   "metadata": {},
   "outputs": [
    {
     "data": {
      "image/png": "[encoded data removed]",
      "text/plain": [
       "<Figure size 432x288 with 1 Axes>"
      ]
     },
     "metadata": {
      "needs_background": "light"
     },
     "output_type": "display_data"
    }
   ],
   "source": [
    "plt.bar(['YES', 'NO'], [Counter(y_cnn)[1], Counter(y_cnn)[0]])\n",
    "add_value_label(['YES', 'NO'], [Counter(y_cnn)[1], Counter(y_cnn)[0]])"
   ]
  },
  {
   "cell_type": "code",
   "execution_count": 64,
   "id": "d04baff9",
   "metadata": {},
   "outputs": [],
   "source": [
    "X_CNN = pd.DataFrame(X_cnn)\n",
    "y_CNN = pd.DataFrame(y_cnn, columns=['Bankrupt?'])\n",
    "\n",
    "# PCA\n",
    "principalComponents = pca.fit_transform(X_CNN)\n",
    "pca_CNN = pd.DataFrame(data = principalComponents, columns = ['pc1', 'pc2'])"
   ]
  },
  {
   "cell_type": "code",
   "execution_count": 57,
   "id": "dfe5b698",
   "metadata": {},
   "outputs": [
    {
     "data": {
      "image/png": "[encoded data removed]",
      "text/plain": [
       "<Figure size 576x576 with 1 Axes>"
      ]
     },
     "metadata": {
      "needs_background": "light"
     },
     "output_type": "display_data"
    }
   ],
   "source": [
    "fig = plt.figure(figsize = (8,8))\n",
    "ax = fig.add_subplot(1,1,1) \n",
    "ax.set_xlabel('PC1', fontsize = 15)\n",
    "ax.set_ylabel('PC2', fontsize = 15)\n",
    "ax.set_title('2 component PCA with Condensed Nearest Neighbor', fontsize = 20)\n",
    "\n",
    "bankrupt_idx = np.where(y_cnn == 1)[0]\n",
    "non_bankrupt_idx = np.where(y_cnn == 0)[0]\n",
    "\n",
    "ax.scatter(pca_CNN.loc[bankrupt_idx, 'pc1'], pca_CNN.loc[bankrupt_idx, 'pc2'], c = 'r', s = 25, marker='s')\n",
    "ax.scatter(pca_CNN.loc[non_bankrupt_idx, 'pc1'], pca_CNN.loc[non_bankrupt_idx, 'pc2'], c = 'b', s = 15)\n",
    "\n",
    "ax.legend(['Bankrupt', 'Non-bankrupt'])\n",
    "ax.grid()"
   ]
  },
  {
   "cell_type": "code",
   "execution_count": 240,
   "id": "452f9538",
   "metadata": {},
   "outputs": [
    {
     "name": "stdout",
     "output_type": "stream",
     "text": [
      "CONFUSION MATRIX:\n",
      " [[237   4]\n",
      " [ 59   1]] \n",
      "\n",
      "OTHER METRICS:\n",
      "               precision    recall  f1-score   support\n",
      "\n",
      "           0       0.80      0.98      0.88       241\n",
      "           1       0.20      0.02      0.03        60\n",
      "\n",
      "    accuracy                           0.79       301\n",
      "   macro avg       0.50      0.50      0.46       301\n",
      "weighted avg       0.68      0.79      0.71       301\n",
      "\n"
     ]
    },
    {
     "name": "stderr",
     "output_type": "stream",
     "text": [
      "c:\\users\\maksym shvets\\appdata\\local\\programs\\python\\python36\\lib\\site-packages\\sklearn\\linear_model\\_logistic.py:765: ConvergenceWarning: lbfgs failed to converge (status=1):\n",
      "STOP: TOTAL NO. of ITERATIONS REACHED LIMIT.\n",
      "\n",
      "Increase the number of iterations (max_iter) or scale the data as shown in:\n",
      "    https://scikit-learn.org/stable/modules/preprocessing.html\n",
      "Please also refer to the documentation for alternative solver options:\n",
      "    https://scikit-learn.org/stable/modules/linear_model.html#logistic-regression\n",
      "  extra_warning_msg=_LOGISTIC_SOLVER_CONVERGENCE_MSG)\n"
     ]
    }
   ],
   "source": [
    "logistic_regression(X=X_CNN, y=y_CNN, name='condensed_nearest_neighbor')"
   ]
  },
  {
   "cell_type": "code",
   "execution_count": 241,
   "id": "a730f03b",
   "metadata": {},
   "outputs": [
    {
     "name": "stdout",
     "output_type": "stream",
     "text": [
      "CONFUSION MATRIX:\n",
      " [[223  15]\n",
      " [ 28  35]] \n",
      "\n",
      "OTHER METRICS:\n",
      "               precision    recall  f1-score   support\n",
      "\n",
      "           0       0.89      0.94      0.91       238\n",
      "           1       0.70      0.56      0.62        63\n",
      "\n",
      "    accuracy                           0.86       301\n",
      "   macro avg       0.79      0.75      0.77       301\n",
      "weighted avg       0.85      0.86      0.85       301\n",
      "\n"
     ]
    }
   ],
   "source": [
    "RandomForest(X=X_CNN, y=y_CNN, name='condensed_nearest_neighbor')"
   ]
  },
  {
   "cell_type": "code",
   "execution_count": 242,
   "id": "418e5566",
   "metadata": {},
   "outputs": [
    {
     "name": "stdout",
     "output_type": "stream",
     "text": [
      "Epoch 1/30\n",
      "11/11 [==============================] - 1s 20ms/step - loss: 247457808.0000 - accuracy: 0.6163 - val_loss: 251202992.0000 - val_accuracy: 0.7575\n",
      "Epoch 2/30\n",
      "11/11 [==============================] - 0s 7ms/step - loss: 141162288.0000 - accuracy: 0.7632 - val_loss: 87423704.0000 - val_accuracy: 0.6711\n",
      "Epoch 3/30\n",
      "11/11 [==============================] - 0s 6ms/step - loss: 65698612.0000 - accuracy: 0.6134 - val_loss: 72112016.0000 - val_accuracy: 0.7309\n",
      "Epoch 4/30\n",
      "11/11 [==============================] - 0s 7ms/step - loss: 47327456.0000 - accuracy: 0.7404 - val_loss: 54859348.0000 - val_accuracy: 0.5449\n",
      "Epoch 5/30\n",
      "11/11 [==============================] - 0s 7ms/step - loss: 27198620.0000 - accuracy: 0.7175 - val_loss: 41667648.0000 - val_accuracy: 0.6578\n",
      "Epoch 6/30\n",
      "11/11 [==============================] - 0s 8ms/step - loss: 21694076.0000 - accuracy: 0.6961 - val_loss: 33613636.0000 - val_accuracy: 0.6346\n",
      "Epoch 7/30\n",
      "11/11 [==============================] - 0s 6ms/step - loss: 16951270.0000 - accuracy: 0.7019 - val_loss: 31522776.0000 - val_accuracy: 0.6844\n",
      "Epoch 8/30\n",
      "11/11 [==============================] - 0s 6ms/step - loss: 15114937.0000 - accuracy: 0.7489 - val_loss: 30668112.0000 - val_accuracy: 0.6711\n",
      "Epoch 9/30\n",
      "11/11 [==============================] - 0s 7ms/step - loss: 13224592.0000 - accuracy: 0.7561 - val_loss: 29165758.0000 - val_accuracy: 0.6578\n",
      "Epoch 10/30\n",
      "11/11 [==============================] - 0s 8ms/step - loss: 10406569.0000 - accuracy: 0.7375 - val_loss: 27262242.0000 - val_accuracy: 0.5781\n",
      "Epoch 11/30\n",
      "11/11 [==============================] - 0s 7ms/step - loss: 8945934.0000 - accuracy: 0.7475 - val_loss: 25668692.0000 - val_accuracy: 0.6910\n",
      "Epoch 12/30\n",
      "11/11 [==============================] - 0s 7ms/step - loss: 8014037.5000 - accuracy: 0.7432 - val_loss: 22508454.0000 - val_accuracy: 0.6246\n",
      "Epoch 13/30\n",
      "11/11 [==============================] - 0s 8ms/step - loss: 6299711.0000 - accuracy: 0.7518 - val_loss: 23723474.0000 - val_accuracy: 0.6811\n",
      "Epoch 14/30\n",
      "11/11 [==============================] - 0s 7ms/step - loss: 5767208.0000 - accuracy: 0.7889 - val_loss: 22493612.0000 - val_accuracy: 0.6711\n",
      "Epoch 15/30\n",
      "11/11 [==============================] - 0s 7ms/step - loss: 5261122.5000 - accuracy: 0.7575 - val_loss: 21500490.0000 - val_accuracy: 0.7010\n",
      "Epoch 16/30\n",
      "11/11 [==============================] - 0s 7ms/step - loss: 6654321.0000 - accuracy: 0.7803 - val_loss: 21872136.0000 - val_accuracy: 0.5714\n",
      "Epoch 17/30\n",
      "11/11 [==============================] - 0s 7ms/step - loss: 5964154.0000 - accuracy: 0.7718 - val_loss: 23135032.0000 - val_accuracy: 0.7010\n",
      "Epoch 18/30\n",
      "11/11 [==============================] - 0s 8ms/step - loss: 4180231.2500 - accuracy: 0.7874 - val_loss: 19579406.0000 - val_accuracy: 0.6047\n",
      "Epoch 19/30\n",
      "11/11 [==============================] - 0s 7ms/step - loss: 3628958.5000 - accuracy: 0.8146 - val_loss: 21243632.0000 - val_accuracy: 0.7176\n",
      "Epoch 20/30\n",
      "11/11 [==============================] - 0s 7ms/step - loss: 4242292.0000 - accuracy: 0.8031 - val_loss: 19303196.0000 - val_accuracy: 0.6512\n",
      "Epoch 21/30\n",
      "11/11 [==============================] - 0s 7ms/step - loss: 3134392.5000 - accuracy: 0.8245 - val_loss: 20685468.0000 - val_accuracy: 0.6678\n",
      "Epoch 22/30\n",
      "11/11 [==============================] - 0s 7ms/step - loss: 4246073.5000 - accuracy: 0.7989 - val_loss: 23240932.0000 - val_accuracy: 0.7209\n",
      "Epoch 23/30\n",
      "11/11 [==============================] - 0s 7ms/step - loss: 5667405.5000 - accuracy: 0.7932 - val_loss: 20838406.0000 - val_accuracy: 0.6146\n",
      "Epoch 24/30\n",
      "11/11 [==============================] - 0s 7ms/step - loss: 3370859.7500 - accuracy: 0.8060 - val_loss: 20342596.0000 - val_accuracy: 0.5814\n",
      "Epoch 25/30\n",
      "11/11 [==============================] - 0s 7ms/step - loss: 3718436.2500 - accuracy: 0.8288 - val_loss: 24159258.0000 - val_accuracy: 0.6412\n",
      "Epoch 26/30\n",
      "11/11 [==============================] - 0s 7ms/step - loss: 5089328.5000 - accuracy: 0.7974 - val_loss: 20680948.0000 - val_accuracy: 0.5249\n",
      "Epoch 27/30\n",
      "11/11 [==============================] - 0s 7ms/step - loss: 3890404.2500 - accuracy: 0.8103 - val_loss: 23524130.0000 - val_accuracy: 0.5581\n",
      "Epoch 28/30\n",
      "11/11 [==============================] - 0s 6ms/step - loss: 4337081.0000 - accuracy: 0.8203 - val_loss: 19234060.0000 - val_accuracy: 0.6013\n",
      "Epoch 29/30\n",
      "11/11 [==============================] - 0s 6ms/step - loss: 3588309.0000 - accuracy: 0.7989 - val_loss: 22976256.0000 - val_accuracy: 0.7110\n",
      "Epoch 30/30\n",
      "11/11 [==============================] - 0s 6ms/step - loss: 3596101.5000 - accuracy: 0.8445 - val_loss: 22215858.0000 - val_accuracy: 0.5017\n",
      "\n",
      "Confusion matrix: \n",
      " [[128 100]\n",
      " [ 50  23]]\n",
      "\n",
      "F1 Score: 0.2346938775510204\n"
     ]
    }
   ],
   "source": [
    "nn(X=X_CNN, y=y_CNN, name='condensed_nearest_neighbor')"
   ]
  },
  {
   "cell_type": "markdown",
   "id": "72647638",
   "metadata": {},
   "source": [
    "## 3. Tomek Links"
   ]
  },
  {
   "cell_type": "code",
   "execution_count": 71,
   "id": "4647a42d",
   "metadata": {},
   "outputs": [],
   "source": [
    "from imblearn.under_sampling import TomekLinks "
   ]
  },
  {
   "cell_type": "code",
   "execution_count": 72,
   "id": "f4689df5",
   "metadata": {},
   "outputs": [
    {
     "name": "stdout",
     "output_type": "stream",
     "text": [
      "Counter({0: 6508, 1: 220})\n"
     ]
    }
   ],
   "source": [
    "tomek_links = TomekLinks()\n",
    "X_tl, y_tl = tomek_links.fit_resample(x.to_numpy(), y.to_numpy())\n",
    "print(Counter(y_tl))"
   ]
  },
  {
   "cell_type": "code",
   "execution_count": 73,
   "id": "1d076850",
   "metadata": {},
   "outputs": [
    {
     "data": {
      "image/png": "[encoded data removed]",
      "text/plain": [
       "<Figure size 432x288 with 1 Axes>"
      ]
     },
     "metadata": {
      "needs_background": "light"
     },
     "output_type": "display_data"
    }
   ],
   "source": [
    "plt.bar(['YES', 'NO'], [Counter(y_tl)[1], Counter(y_tl)[0]])\n",
    "add_value_label(['YES', 'NO'], [Counter(y_tl)[1], Counter(y_tl)[0]])"
   ]
  },
  {
   "cell_type": "markdown",
   "id": "2954892e",
   "metadata": {},
   "source": [
    "## 4. Cluster Centroids"
   ]
  },
  {
   "cell_type": "code",
   "execution_count": 74,
   "id": "36e3d214",
   "metadata": {},
   "outputs": [],
   "source": [
    "from imblearn.under_sampling import ClusterCentroids "
   ]
  },
  {
   "cell_type": "code",
   "execution_count": 75,
   "id": "10bdda56",
   "metadata": {},
   "outputs": [
    {
     "name": "stdout",
     "output_type": "stream",
     "text": [
      "Counter({0: 220, 1: 220})\n"
     ]
    }
   ],
   "source": [
    "cc = ClusterCentroids(random_state=34)\n",
    "X_cc, y_cc = cc.fit_resample(x.to_numpy(), y.to_numpy())\n",
    "print(Counter(y_cc))"
   ]
  },
  {
   "cell_type": "code",
   "execution_count": 76,
   "id": "455050ef",
   "metadata": {},
   "outputs": [
    {
     "data": {
      "image/png": "[encoded data removed]",
      "text/plain": [
       "<Figure size 432x288 with 1 Axes>"
      ]
     },
     "metadata": {
      "needs_background": "light"
     },
     "output_type": "display_data"
    }
   ],
   "source": [
    "plt.bar(['YES', 'NO'], [Counter(y_cc)[1], Counter(y_cc)[0]])\n",
    "add_value_label(['YES', 'NO'], [Counter(y_cc)[1], Counter(y_cc)[0]])"
   ]
  },
  {
   "cell_type": "code",
   "execution_count": 77,
   "id": "63feb12e",
   "metadata": {},
   "outputs": [],
   "source": [
    "X_central = pd.DataFrame(X_cc)\n",
    "y_central = pd.DataFrame(y_cc, columns=['Bankrupt?'])\n",
    "\n",
    "# PCA\n",
    "principalComponents = pca.fit_transform(X_central)\n",
    "pca_Central_Centroins = pd.DataFrame(data = principalComponents, columns = ['pc1', 'pc2'])"
   ]
  },
  {
   "cell_type": "code",
   "execution_count": 78,
   "id": "226d2476",
   "metadata": {},
   "outputs": [
    {
     "data": {
      "image/png": "[encoded data removed]",
      "text/plain": [
       "<Figure size 576x576 with 1 Axes>"
      ]
     },
     "metadata": {
      "needs_background": "light"
     },
     "output_type": "display_data"
    }
   ],
   "source": [
    "fig = plt.figure(figsize = (8,8))\n",
    "ax = fig.add_subplot(1,1,1) \n",
    "ax.set_xlabel('PC1', fontsize = 15)\n",
    "ax.set_ylabel('PC2', fontsize = 15)\n",
    "ax.set_title('2 component PCA with Central Centroids', fontsize = 20)\n",
    "\n",
    "bankrupt_idx = np.where(y_central == 1)[0]\n",
    "non_bankrupt_idx = np.where(y_central == 0)[0]\n",
    "\n",
    "ax.scatter(pca_Central_Centroins.loc[bankrupt_idx, 'pc1'], pca_Central_Centroins.loc[bankrupt_idx, 'pc2'], c = 'r', s = 15, marker='s')\n",
    "ax.scatter(pca_Central_Centroins.loc[non_bankrupt_idx, 'pc1'], pca_Central_Centroins.loc[non_bankrupt_idx, 'pc2'], c = 'b', s = 15)\n",
    "\n",
    "ax.legend(['Bankrupt', 'Non-bankrupt'])\n",
    "ax.grid()"
   ]
  },
  {
   "cell_type": "code",
   "execution_count": 214,
   "id": "997ee478",
   "metadata": {},
   "outputs": [
    {
     "name": "stdout",
     "output_type": "stream",
     "text": [
      "CONFUSION MATRIX:\n",
      " [[46 20]\n",
      " [20 46]] \n",
      "\n",
      "OTHER METRICS:\n",
      "               precision    recall  f1-score   support\n",
      "\n",
      "           0       0.70      0.70      0.70        66\n",
      "           1       0.70      0.70      0.70        66\n",
      "\n",
      "    accuracy                           0.70       132\n",
      "   macro avg       0.70      0.70      0.70       132\n",
      "weighted avg       0.70      0.70      0.70       132\n",
      "\n"
     ]
    },
    {
     "name": "stderr",
     "output_type": "stream",
     "text": [
      "c:\\users\\maksym shvets\\appdata\\local\\programs\\python\\python36\\lib\\site-packages\\sklearn\\linear_model\\_logistic.py:765: ConvergenceWarning: lbfgs failed to converge (status=1):\n",
      "STOP: TOTAL NO. of ITERATIONS REACHED LIMIT.\n",
      "\n",
      "Increase the number of iterations (max_iter) or scale the data as shown in:\n",
      "    https://scikit-learn.org/stable/modules/preprocessing.html\n",
      "Please also refer to the documentation for alternative solver options:\n",
      "    https://scikit-learn.org/stable/modules/linear_model.html#logistic-regression\n",
      "  extra_warning_msg=_LOGISTIC_SOLVER_CONVERGENCE_MSG)\n"
     ]
    }
   ],
   "source": [
    "logistic_regression(X=X_central, y=y_central, name='Central Centroids')"
   ]
  },
  {
   "cell_type": "code",
   "execution_count": 215,
   "id": "7472a16d",
   "metadata": {},
   "outputs": [
    {
     "name": "stdout",
     "output_type": "stream",
     "text": [
      "CONFUSION MATRIX:\n",
      " [[59  4]\n",
      " [ 4 65]] \n",
      "\n",
      "OTHER METRICS:\n",
      "               precision    recall  f1-score   support\n",
      "\n",
      "           0       0.94      0.94      0.94        63\n",
      "           1       0.94      0.94      0.94        69\n",
      "\n",
      "    accuracy                           0.94       132\n",
      "   macro avg       0.94      0.94      0.94       132\n",
      "weighted avg       0.94      0.94      0.94       132\n",
      "\n"
     ]
    }
   ],
   "source": [
    "RandomForest(X=X_central, y=y_central, name='Central Centroids')"
   ]
  },
  {
   "cell_type": "code",
   "execution_count": 216,
   "id": "c98b93fe",
   "metadata": {},
   "outputs": [
    {
     "name": "stdout",
     "output_type": "stream",
     "text": [
      "Epoch 1/30\n",
      "5/5 [==============================] - 0s 26ms/step - loss: 194950880.0000 - accuracy: 0.5032 - val_loss: 169630464.0000 - val_accuracy: 0.4924\n",
      "Epoch 2/30\n",
      "5/5 [==============================] - 0s 6ms/step - loss: 107635536.0000 - accuracy: 0.5227 - val_loss: 90841056.0000 - val_accuracy: 0.5379\n",
      "Epoch 3/30\n",
      "5/5 [==============================] - 0s 6ms/step - loss: 64140220.0000 - accuracy: 0.5519 - val_loss: 72036768.0000 - val_accuracy: 0.5303\n",
      "Epoch 4/30\n",
      "5/5 [==============================] - 0s 7ms/step - loss: 45834452.0000 - accuracy: 0.5909 - val_loss: 69082752.0000 - val_accuracy: 0.4773\n",
      "Epoch 5/30\n",
      "5/5 [==============================] - 0s 5ms/step - loss: 32009276.0000 - accuracy: 0.6299 - val_loss: 60517528.0000 - val_accuracy: 0.4848\n",
      "Epoch 6/30\n",
      "5/5 [==============================] - 0s 5ms/step - loss: 26178814.0000 - accuracy: 0.6234 - val_loss: 61567080.0000 - val_accuracy: 0.5303\n",
      "Epoch 7/30\n",
      "5/5 [==============================] - 0s 6ms/step - loss: 23222414.0000 - accuracy: 0.6039 - val_loss: 56179864.0000 - val_accuracy: 0.5152\n",
      "Epoch 8/30\n",
      "5/5 [==============================] - 0s 6ms/step - loss: 16995672.0000 - accuracy: 0.6786 - val_loss: 51072112.0000 - val_accuracy: 0.5000\n",
      "Epoch 9/30\n",
      "5/5 [==============================] - 0s 6ms/step - loss: 13791240.0000 - accuracy: 0.6948 - val_loss: 49011708.0000 - val_accuracy: 0.4848\n",
      "Epoch 10/30\n",
      "5/5 [==============================] - 0s 6ms/step - loss: 13082140.0000 - accuracy: 0.7045 - val_loss: 48710444.0000 - val_accuracy: 0.4848\n",
      "Epoch 11/30\n",
      "5/5 [==============================] - 0s 6ms/step - loss: 12173212.0000 - accuracy: 0.6818 - val_loss: 50702072.0000 - val_accuracy: 0.4848\n",
      "Epoch 12/30\n",
      "5/5 [==============================] - 0s 6ms/step - loss: 9300934.0000 - accuracy: 0.7013 - val_loss: 45259572.0000 - val_accuracy: 0.5000\n",
      "Epoch 13/30\n",
      "5/5 [==============================] - 0s 7ms/step - loss: 6228648.0000 - accuracy: 0.7468 - val_loss: 45770444.0000 - val_accuracy: 0.5152\n",
      "Epoch 14/30\n",
      "5/5 [==============================] - 0s 7ms/step - loss: 4647829.0000 - accuracy: 0.7662 - val_loss: 46208956.0000 - val_accuracy: 0.5152\n",
      "Epoch 15/30\n",
      "5/5 [==============================] - 0s 6ms/step - loss: 4263468.0000 - accuracy: 0.7825 - val_loss: 46413404.0000 - val_accuracy: 0.5076\n",
      "Epoch 16/30\n",
      "5/5 [==============================] - 0s 6ms/step - loss: 5938346.0000 - accuracy: 0.7240 - val_loss: 43257252.0000 - val_accuracy: 0.5152\n",
      "Epoch 17/30\n",
      "5/5 [==============================] - 0s 6ms/step - loss: 3795909.0000 - accuracy: 0.8182 - val_loss: 43078608.0000 - val_accuracy: 0.5227\n",
      "Epoch 18/30\n",
      "5/5 [==============================] - 0s 6ms/step - loss: 4928411.5000 - accuracy: 0.8052 - val_loss: 44299448.0000 - val_accuracy: 0.5303\n",
      "Epoch 19/30\n",
      "5/5 [==============================] - 0s 6ms/step - loss: 3939649.7500 - accuracy: 0.8019 - val_loss: 44833956.0000 - val_accuracy: 0.5000\n",
      "Epoch 20/30\n",
      "5/5 [==============================] - 0s 8ms/step - loss: 3903305.2500 - accuracy: 0.8052 - val_loss: 43152448.0000 - val_accuracy: 0.5152\n",
      "Epoch 21/30\n",
      "5/5 [==============================] - 0s 6ms/step - loss: 2926387.5000 - accuracy: 0.8409 - val_loss: 42313108.0000 - val_accuracy: 0.5152\n",
      "Epoch 22/30\n",
      "5/5 [==============================] - 0s 5ms/step - loss: 2928207.0000 - accuracy: 0.8279 - val_loss: 41442080.0000 - val_accuracy: 0.5303\n",
      "Epoch 23/30\n",
      "5/5 [==============================] - 0s 6ms/step - loss: 2612770.0000 - accuracy: 0.8312 - val_loss: 42850504.0000 - val_accuracy: 0.5076\n",
      "Epoch 24/30\n",
      "5/5 [==============================] - 0s 7ms/step - loss: 3048678.2500 - accuracy: 0.8377 - val_loss: 41752180.0000 - val_accuracy: 0.5379\n",
      "Epoch 25/30\n",
      "5/5 [==============================] - 0s 7ms/step - loss: 1956381.1250 - accuracy: 0.8864 - val_loss: 40078732.0000 - val_accuracy: 0.5076\n",
      "Epoch 26/30\n",
      "5/5 [==============================] - 0s 6ms/step - loss: 2264239.5000 - accuracy: 0.8669 - val_loss: 41063908.0000 - val_accuracy: 0.5152\n",
      "Epoch 27/30\n",
      "5/5 [==============================] - 0s 6ms/step - loss: 2733045.5000 - accuracy: 0.8539 - val_loss: 40050824.0000 - val_accuracy: 0.5303\n",
      "Epoch 28/30\n",
      "5/5 [==============================] - 0s 6ms/step - loss: 1785639.8750 - accuracy: 0.8669 - val_loss: 39249820.0000 - val_accuracy: 0.5303\n",
      "Epoch 29/30\n",
      "5/5 [==============================] - 0s 5ms/step - loss: 1131780.6250 - accuracy: 0.9091 - val_loss: 40511100.0000 - val_accuracy: 0.5530\n",
      "Epoch 30/30\n",
      "5/5 [==============================] - 0s 5ms/step - loss: 3276143.7500 - accuracy: 0.8312 - val_loss: 42187396.0000 - val_accuracy: 0.5152\n",
      "\n",
      "Confusion matrix: \n",
      " [[29 42]\n",
      " [22 39]]\n",
      "\n",
      "F1 Score: 0.5492957746478874\n"
     ]
    }
   ],
   "source": [
    "nn(X=X_central, y=y_central, name='Central Centroids')"
   ]
  },
  {
   "cell_type": "markdown",
   "id": "c740a1f3",
   "metadata": {},
   "source": [
    "# OVER-SAMPLING TECHNIQUES"
   ]
  },
  {
   "cell_type": "markdown",
   "id": "68c9f262",
   "metadata": {},
   "source": [
    "## 1. Random Over-Sampling"
   ]
  },
  {
   "cell_type": "code",
   "execution_count": 217,
   "id": "23e9409f",
   "metadata": {},
   "outputs": [],
   "source": [
    "from imblearn.over_sampling import RandomOverSampler"
   ]
  },
  {
   "cell_type": "code",
   "execution_count": 119,
   "id": "baa65baa",
   "metadata": {},
   "outputs": [
    {
     "name": "stdout",
     "output_type": "stream",
     "text": [
      "Counter({1: 6599, 0: 6599})\n"
     ]
    }
   ],
   "source": [
    "ros = RandomOverSampler(random_state=31)\n",
    "X_res, y_res = ros.fit_resample(x.to_numpy(), y.to_numpy())\n",
    "print(Counter(y_res))"
   ]
  },
  {
   "cell_type": "code",
   "execution_count": 120,
   "id": "b3c69dcf",
   "metadata": {},
   "outputs": [],
   "source": [
    "X_ROS = pd.DataFrame(X_res)\n",
    "y_ROS = pd.DataFrame(y_res, columns=['Bankrupt?'])\n",
    "\n",
    "# PCA\n",
    "principalComponents = pca.fit_transform(X_ROS)\n",
    "pca_ROS = pd.DataFrame(data = principalComponents, columns = ['pc1', 'pc2'])"
   ]
  },
  {
   "cell_type": "code",
   "execution_count": 121,
   "id": "70a3ea77",
   "metadata": {},
   "outputs": [
    {
     "data": {
      "image/png": "[encoded data removed]",
      "text/plain": [
       "<Figure size 576x576 with 1 Axes>"
      ]
     },
     "metadata": {
      "needs_background": "light"
     },
     "output_type": "display_data"
    }
   ],
   "source": [
    "fig = plt.figure(figsize = (8,8))\n",
    "ax = fig.add_subplot(1,1,1) \n",
    "ax.set_xlabel('PC1', fontsize = 15)\n",
    "ax.set_ylabel('PC2', fontsize = 15)\n",
    "ax.set_title('2 component PCA with ROS', fontsize = 20)\n",
    "\n",
    "bankrupt_idx = np.where(y_ROS == 1)[0]\n",
    "non_bankrupt_idx = np.where(y_ROS == 0)[0]\n",
    "\n",
    "ax.scatter(pca_ROS.loc[bankrupt_idx, 'pc1'], pca_ROS.loc[bankrupt_idx, 'pc2'], c = 'r', s = 15, marker='s')\n",
    "ax.scatter(pca_ROS.loc[non_bankrupt_idx, 'pc1'], pca_ROS.loc[non_bankrupt_idx, 'pc2'], c = 'b', s = 5)\n",
    "\n",
    "ax.legend(['Bankrupt', 'Non-bankrupt'])\n",
    "ax.grid()"
   ]
  },
  {
   "cell_type": "code",
   "execution_count": 218,
   "id": "1150313f",
   "metadata": {},
   "outputs": [
    {
     "name": "stdout",
     "output_type": "stream",
     "text": [
      "CONFUSION MATRIX:\n",
      " [[1431  521]\n",
      " [1013  995]] \n",
      "\n",
      "OTHER METRICS:\n",
      "               precision    recall  f1-score   support\n",
      "\n",
      "           0       0.59      0.73      0.65      1952\n",
      "           1       0.66      0.50      0.56      2008\n",
      "\n",
      "    accuracy                           0.61      3960\n",
      "   macro avg       0.62      0.61      0.61      3960\n",
      "weighted avg       0.62      0.61      0.61      3960\n",
      "\n"
     ]
    },
    {
     "name": "stderr",
     "output_type": "stream",
     "text": [
      "c:\\users\\maksym shvets\\appdata\\local\\programs\\python\\python36\\lib\\site-packages\\sklearn\\linear_model\\_logistic.py:765: ConvergenceWarning: lbfgs failed to converge (status=1):\n",
      "STOP: TOTAL NO. of ITERATIONS REACHED LIMIT.\n",
      "\n",
      "Increase the number of iterations (max_iter) or scale the data as shown in:\n",
      "    https://scikit-learn.org/stable/modules/preprocessing.html\n",
      "Please also refer to the documentation for alternative solver options:\n",
      "    https://scikit-learn.org/stable/modules/linear_model.html#logistic-regression\n",
      "  extra_warning_msg=_LOGISTIC_SOLVER_CONVERGENCE_MSG)\n"
     ]
    }
   ],
   "source": [
    "logistic_regression(X=X_ROS, y=y_ROS, name='random_over_sampling')"
   ]
  },
  {
   "cell_type": "code",
   "execution_count": 219,
   "id": "c413d430",
   "metadata": {},
   "outputs": [
    {
     "name": "stdout",
     "output_type": "stream",
     "text": [
      "CONFUSION MATRIX:\n",
      " [[1783  193]\n",
      " [ 144 1840]] \n",
      "\n",
      "OTHER METRICS:\n",
      "               precision    recall  f1-score   support\n",
      "\n",
      "           0       0.93      0.90      0.91      1976\n",
      "           1       0.91      0.93      0.92      1984\n",
      "\n",
      "    accuracy                           0.91      3960\n",
      "   macro avg       0.92      0.91      0.91      3960\n",
      "weighted avg       0.92      0.91      0.91      3960\n",
      "\n"
     ]
    }
   ],
   "source": [
    "RandomForest(X=X_ROS, y=y_ROS, name='random_over_sampling')"
   ]
  },
  {
   "cell_type": "code",
   "execution_count": 220,
   "id": "b63225ea",
   "metadata": {},
   "outputs": [
    {
     "name": "stdout",
     "output_type": "stream",
     "text": [
      "Epoch 1/30\n",
      "145/145 [==============================] - 0s 2ms/step - loss: 33980876.0000 - accuracy: 0.6229 - val_loss: 12041670.0000 - val_accuracy: 0.6364\n",
      "Epoch 2/30\n",
      "145/145 [==============================] - 0s 1ms/step - loss: 7951872.0000 - accuracy: 0.7127 - val_loss: 8362246.0000 - val_accuracy: 0.7207\n",
      "Epoch 3/30\n",
      "145/145 [==============================] - 0s 1ms/step - loss: 5467453.5000 - accuracy: 0.7516 - val_loss: 4859484.5000 - val_accuracy: 0.7694\n",
      "Epoch 4/30\n",
      "145/145 [==============================] - 0s 1ms/step - loss: 3987561.0000 - accuracy: 0.7811 - val_loss: 2499805.2500 - val_accuracy: 0.8283\n",
      "Epoch 5/30\n",
      "145/145 [==============================] - 0s 1ms/step - loss: 4557046.0000 - accuracy: 0.7730 - val_loss: 3856310.7500 - val_accuracy: 0.8220\n",
      "Epoch 6/30\n",
      "145/145 [==============================] - 0s 1ms/step - loss: 4445457.5000 - accuracy: 0.7809 - val_loss: 5456352.5000 - val_accuracy: 0.8056\n",
      "Epoch 7/30\n",
      "145/145 [==============================] - 0s 1ms/step - loss: 2704923.5000 - accuracy: 0.8211 - val_loss: 3263319.7500 - val_accuracy: 0.7992\n",
      "Epoch 8/30\n",
      "145/145 [==============================] - 0s 1ms/step - loss: 2968701.5000 - accuracy: 0.8081 - val_loss: 2537027.2500 - val_accuracy: 0.8051\n",
      "Epoch 9/30\n",
      "145/145 [==============================] - 0s 1ms/step - loss: 4256994.0000 - accuracy: 0.7941 - val_loss: 3875330.7500 - val_accuracy: 0.7922\n",
      "Epoch 10/30\n",
      "145/145 [==============================] - 0s 1ms/step - loss: 3054426.0000 - accuracy: 0.8158 - val_loss: 2760146.0000 - val_accuracy: 0.8157\n",
      "Epoch 11/30\n",
      "145/145 [==============================] - 0s 1ms/step - loss: 2832510.2500 - accuracy: 0.8210 - val_loss: 2262481.5000 - val_accuracy: 0.8654\n",
      "Epoch 12/30\n",
      "145/145 [==============================] - 0s 1ms/step - loss: 2613806.2500 - accuracy: 0.8260 - val_loss: 3227171.5000 - val_accuracy: 0.8061\n",
      "Epoch 13/30\n",
      "145/145 [==============================] - 0s 1ms/step - loss: 2027700.6250 - accuracy: 0.8405 - val_loss: 2459312.2500 - val_accuracy: 0.8722\n",
      "Epoch 14/30\n",
      "145/145 [==============================] - 0s 1ms/step - loss: 2932677.0000 - accuracy: 0.8118 - val_loss: 2234526.0000 - val_accuracy: 0.8508\n",
      "Epoch 15/30\n",
      "145/145 [==============================] - 0s 1ms/step - loss: 2449274.2500 - accuracy: 0.8311 - val_loss: 2026360.8750 - val_accuracy: 0.8442\n",
      "Epoch 16/30\n",
      "145/145 [==============================] - 0s 1ms/step - loss: 1780922.5000 - accuracy: 0.8478 - val_loss: 1707541.8750 - val_accuracy: 0.8816\n",
      "Epoch 17/30\n",
      "145/145 [==============================] - 0s 1ms/step - loss: 1694229.8750 - accuracy: 0.8519 - val_loss: 2137717.7500 - val_accuracy: 0.8545\n",
      "Epoch 18/30\n",
      "145/145 [==============================] - 0s 1ms/step - loss: 1700820.7500 - accuracy: 0.8554 - val_loss: 1431816.3750 - val_accuracy: 0.8551\n",
      "Epoch 19/30\n",
      "145/145 [==============================] - 0s 1ms/step - loss: 1460006.7500 - accuracy: 0.8644 - val_loss: 1102519.0000 - val_accuracy: 0.9028\n",
      "Epoch 20/30\n",
      "145/145 [==============================] - 0s 1ms/step - loss: 2268829.7500 - accuracy: 0.8328 - val_loss: 3294113.0000 - val_accuracy: 0.7808\n",
      "Epoch 21/30\n",
      "145/145 [==============================] - 0s 1ms/step - loss: 2822607.2500 - accuracy: 0.8201 - val_loss: 5813172.0000 - val_accuracy: 0.7000\n",
      "Epoch 22/30\n",
      "145/145 [==============================] - 0s 1ms/step - loss: 1657801.6250 - accuracy: 0.8569 - val_loss: 2664875.5000 - val_accuracy: 0.7894\n",
      "Epoch 23/30\n",
      "145/145 [==============================] - 0s 1ms/step - loss: 1572558.0000 - accuracy: 0.8585 - val_loss: 1221307.7500 - val_accuracy: 0.8730\n",
      "Epoch 24/30\n",
      "145/145 [==============================] - 0s 1ms/step - loss: 1209413.0000 - accuracy: 0.8702 - val_loss: 1941556.3750 - val_accuracy: 0.7894\n",
      "Epoch 25/30\n",
      "145/145 [==============================] - 0s 1ms/step - loss: 2003026.0000 - accuracy: 0.8462 - val_loss: 2373462.2500 - val_accuracy: 0.7902\n",
      "Epoch 26/30\n",
      "145/145 [==============================] - 0s 1ms/step - loss: 1958310.1250 - accuracy: 0.8457 - val_loss: 5025081.5000 - val_accuracy: 0.7927\n",
      "Epoch 27/30\n",
      "145/145 [==============================] - 0s 1ms/step - loss: 1821603.8750 - accuracy: 0.8503 - val_loss: 1772867.6250 - val_accuracy: 0.8636\n",
      "Epoch 28/30\n",
      "145/145 [==============================] - 0s 1ms/step - loss: 1661094.3750 - accuracy: 0.8541 - val_loss: 1419891.1250 - val_accuracy: 0.8740\n",
      "Epoch 29/30\n",
      "145/145 [==============================] - 0s 1ms/step - loss: 1500060.7500 - accuracy: 0.8581 - val_loss: 1245295.2500 - val_accuracy: 0.8662\n",
      "Epoch 30/30\n",
      "145/145 [==============================] - 0s 1ms/step - loss: 1655754.8750 - accuracy: 0.8545 - val_loss: 1767800.8750 - val_accuracy: 0.8091\n",
      "\n",
      "Confusion matrix: \n",
      " [[1869  109]\n",
      " [ 647 1335]]\n",
      "\n",
      "F1 Score: 0.7793345008756567\n"
     ]
    }
   ],
   "source": [
    "nn(X=X_ROS, y=y_ROS, name='random_over_sampling')"
   ]
  },
  {
   "cell_type": "markdown",
   "id": "66e8bbce",
   "metadata": {},
   "source": [
    "## 2. SMOTE"
   ]
  },
  {
   "cell_type": "code",
   "execution_count": 126,
   "id": "8f80676c",
   "metadata": {},
   "outputs": [],
   "source": [
    "from imblearn.over_sampling import SMOTE"
   ]
  },
  {
   "cell_type": "code",
   "execution_count": 127,
   "id": "9e2f8896",
   "metadata": {},
   "outputs": [
    {
     "name": "stdout",
     "output_type": "stream",
     "text": [
      "Counter({1: 6599, 0: 6599})\n"
     ]
    }
   ],
   "source": [
    "sm = SMOTE(random_state=42)\n",
    "X_res, y_res = sm.fit_resample(x.to_numpy(), y.to_numpy())\n",
    "print(Counter(y_res))"
   ]
  },
  {
   "cell_type": "code",
   "execution_count": 128,
   "id": "40ebcdd2",
   "metadata": {},
   "outputs": [],
   "source": [
    "X_smote = pd.DataFrame(X_res)\n",
    "y_smote = pd.DataFrame(y_res, columns=['Bankrupt?'])\n",
    "\n",
    "# PCA\n",
    "principalComponents = pca.fit_transform(X_smote)\n",
    "pca_smote = pd.DataFrame(data = principalComponents, columns = ['pc1', 'pc2'])"
   ]
  },
  {
   "cell_type": "code",
   "execution_count": 129,
   "id": "9d7b2772",
   "metadata": {},
   "outputs": [
    {
     "data": {
      "image/png": "[encoded data removed]",
      "text/plain": [
       "<Figure size 576x576 with 1 Axes>"
      ]
     },
     "metadata": {
      "needs_background": "light"
     },
     "output_type": "display_data"
    }
   ],
   "source": [
    "fig = plt.figure(figsize = (8,8))\n",
    "ax = fig.add_subplot(1,1,1) \n",
    "ax.set_xlabel('PC1', fontsize = 15)\n",
    "ax.set_ylabel('PC2', fontsize = 15)\n",
    "ax.set_title('2 component PCA with ROS', fontsize = 20)\n",
    "\n",
    "bankrupt_idx = np.where(y_smote == 1)[0]\n",
    "non_bankrupt_idx = np.where(y_smote == 0)[0]\n",
    "\n",
    "ax.scatter(pca_smote.loc[bankrupt_idx, 'pc1'], pca_smote.loc[bankrupt_idx, 'pc2'], c = 'r', s = 15, marker='s')\n",
    "ax.scatter(pca_smote.loc[non_bankrupt_idx, 'pc1'], pca_smote.loc[non_bankrupt_idx, 'pc2'], c = 'b', s = 5)\n",
    "\n",
    "ax.legend(['Bankrupt', 'Non-bankrupt'])\n",
    "ax.grid()"
   ]
  },
  {
   "cell_type": "code",
   "execution_count": 221,
   "id": "62707487",
   "metadata": {},
   "outputs": [
    {
     "name": "stdout",
     "output_type": "stream",
     "text": [
      "CONFUSION MATRIX:\n",
      " [[1474  546]\n",
      " [1024  916]] \n",
      "\n",
      "OTHER METRICS:\n",
      "               precision    recall  f1-score   support\n",
      "\n",
      "           0       0.59      0.73      0.65      2020\n",
      "           1       0.63      0.47      0.54      1940\n",
      "\n",
      "    accuracy                           0.60      3960\n",
      "   macro avg       0.61      0.60      0.60      3960\n",
      "weighted avg       0.61      0.60      0.60      3960\n",
      "\n"
     ]
    },
    {
     "name": "stderr",
     "output_type": "stream",
     "text": [
      "c:\\users\\maksym shvets\\appdata\\local\\programs\\python\\python36\\lib\\site-packages\\sklearn\\linear_model\\_logistic.py:765: ConvergenceWarning: lbfgs failed to converge (status=1):\n",
      "STOP: TOTAL NO. of ITERATIONS REACHED LIMIT.\n",
      "\n",
      "Increase the number of iterations (max_iter) or scale the data as shown in:\n",
      "    https://scikit-learn.org/stable/modules/preprocessing.html\n",
      "Please also refer to the documentation for alternative solver options:\n",
      "    https://scikit-learn.org/stable/modules/linear_model.html#logistic-regression\n",
      "  extra_warning_msg=_LOGISTIC_SOLVER_CONVERGENCE_MSG)\n"
     ]
    }
   ],
   "source": [
    "logistic_regression(X=X_smote, y=y_smote, name='smote')"
   ]
  },
  {
   "cell_type": "code",
   "execution_count": 222,
   "id": "bad0e666",
   "metadata": {},
   "outputs": [
    {
     "name": "stdout",
     "output_type": "stream",
     "text": [
      "CONFUSION MATRIX:\n",
      " [[1795  195]\n",
      " [ 168 1802]] \n",
      "\n",
      "OTHER METRICS:\n",
      "               precision    recall  f1-score   support\n",
      "\n",
      "           0       0.91      0.90      0.91      1990\n",
      "           1       0.90      0.91      0.91      1970\n",
      "\n",
      "    accuracy                           0.91      3960\n",
      "   macro avg       0.91      0.91      0.91      3960\n",
      "weighted avg       0.91      0.91      0.91      3960\n",
      "\n"
     ]
    }
   ],
   "source": [
    "RandomForest(X=X_smote, y=y_smote, name='smote')"
   ]
  },
  {
   "cell_type": "code",
   "execution_count": 223,
   "id": "c974fe8b",
   "metadata": {},
   "outputs": [
    {
     "name": "stdout",
     "output_type": "stream",
     "text": [
      "Epoch 1/30\n",
      "145/145 [==============================] - 1s 2ms/step - loss: 38132752.0000 - accuracy: 0.6297 - val_loss: 11730689.0000 - val_accuracy: 0.6955\n",
      "Epoch 2/30\n",
      "145/145 [==============================] - 0s 1ms/step - loss: 9454922.0000 - accuracy: 0.7137 - val_loss: 12353305.0000 - val_accuracy: 0.7237\n",
      "Epoch 3/30\n",
      "145/145 [==============================] - 0s 1ms/step - loss: 5646118.5000 - accuracy: 0.7628 - val_loss: 6129791.5000 - val_accuracy: 0.7674\n",
      "Epoch 4/30\n",
      "145/145 [==============================] - 0s 1ms/step - loss: 4601250.0000 - accuracy: 0.7808 - val_loss: 7112687.5000 - val_accuracy: 0.7515\n",
      "Epoch 5/30\n",
      "145/145 [==============================] - 0s 1ms/step - loss: 4298660.5000 - accuracy: 0.7872 - val_loss: 5012207.0000 - val_accuracy: 0.7662\n",
      "Epoch 6/30\n",
      "145/145 [==============================] - 0s 1ms/step - loss: 4324796.0000 - accuracy: 0.7940 - val_loss: 3829170.0000 - val_accuracy: 0.8018\n",
      "Epoch 7/30\n",
      "145/145 [==============================] - 0s 1ms/step - loss: 3529319.0000 - accuracy: 0.8090 - val_loss: 6933872.0000 - val_accuracy: 0.7303\n",
      "Epoch 8/30\n",
      "145/145 [==============================] - 0s 1ms/step - loss: 4586481.5000 - accuracy: 0.7942 - val_loss: 5468036.0000 - val_accuracy: 0.7846\n",
      "Epoch 9/30\n",
      "145/145 [==============================] - 0s 1ms/step - loss: 3412270.7500 - accuracy: 0.8095 - val_loss: 3108969.7500 - val_accuracy: 0.8096\n",
      "Epoch 10/30\n",
      "145/145 [==============================] - 0s 1ms/step - loss: 2759310.5000 - accuracy: 0.8288 - val_loss: 3360457.2500 - val_accuracy: 0.8005\n",
      "Epoch 11/30\n",
      "145/145 [==============================] - 0s 1ms/step - loss: 2962862.2500 - accuracy: 0.8216 - val_loss: 3122900.0000 - val_accuracy: 0.8167\n",
      "Epoch 12/30\n",
      "145/145 [==============================] - 0s 1ms/step - loss: 3136058.2500 - accuracy: 0.8257 - val_loss: 2968543.7500 - val_accuracy: 0.8386\n",
      "Epoch 13/30\n",
      "145/145 [==============================] - 0s 1ms/step - loss: 2614028.0000 - accuracy: 0.8316 - val_loss: 2987103.5000 - val_accuracy: 0.8263\n",
      "Epoch 14/30\n",
      "145/145 [==============================] - 0s 1ms/step - loss: 2439241.5000 - accuracy: 0.8342 - val_loss: 3785295.7500 - val_accuracy: 0.7980\n",
      "Epoch 15/30\n",
      "145/145 [==============================] - 0s 1ms/step - loss: 2605231.0000 - accuracy: 0.8320 - val_loss: 3134544.7500 - val_accuracy: 0.8316\n",
      "Epoch 16/30\n",
      "145/145 [==============================] - 0s 1ms/step - loss: 1799788.5000 - accuracy: 0.8567 - val_loss: 3277815.5000 - val_accuracy: 0.7460\n",
      "Epoch 17/30\n",
      "145/145 [==============================] - 0s 1ms/step - loss: 2455377.2500 - accuracy: 0.8387 - val_loss: 2330228.2500 - val_accuracy: 0.8197\n",
      "Epoch 18/30\n",
      "145/145 [==============================] - 0s 1ms/step - loss: 3044230.7500 - accuracy: 0.8206 - val_loss: 4187833.2500 - val_accuracy: 0.8051\n",
      "Epoch 19/30\n",
      "145/145 [==============================] - 0s 1ms/step - loss: 2174365.0000 - accuracy: 0.8443 - val_loss: 2681887.5000 - val_accuracy: 0.8391\n",
      "Epoch 20/30\n",
      "145/145 [==============================] - 0s 1ms/step - loss: 1869321.0000 - accuracy: 0.8511 - val_loss: 4620992.5000 - val_accuracy: 0.7836\n",
      "Epoch 21/30\n",
      "145/145 [==============================] - 0s 1ms/step - loss: 2368195.2500 - accuracy: 0.8391 - val_loss: 2647434.2500 - val_accuracy: 0.8212\n",
      "Epoch 22/30\n",
      "145/145 [==============================] - 0s 1ms/step - loss: 2503618.2500 - accuracy: 0.8304 - val_loss: 3845968.7500 - val_accuracy: 0.7955\n",
      "Epoch 23/30\n",
      "145/145 [==============================] - 0s 1ms/step - loss: 2227363.5000 - accuracy: 0.8418 - val_loss: 2058124.2500 - val_accuracy: 0.8518\n",
      "Epoch 24/30\n",
      "145/145 [==============================] - 0s 1ms/step - loss: 1820996.6250 - accuracy: 0.8536 - val_loss: 2722410.2500 - val_accuracy: 0.8455\n",
      "Epoch 25/30\n",
      "145/145 [==============================] - 0s 1ms/step - loss: 1580065.5000 - accuracy: 0.8614 - val_loss: 1720831.8750 - val_accuracy: 0.8543\n",
      "Epoch 26/30\n",
      "145/145 [==============================] - 0s 1ms/step - loss: 1462515.0000 - accuracy: 0.8628 - val_loss: 2613593.2500 - val_accuracy: 0.8295\n",
      "Epoch 27/30\n",
      "145/145 [==============================] - 0s 1ms/step - loss: 1671616.3750 - accuracy: 0.8572 - val_loss: 1903927.6250 - val_accuracy: 0.8126\n",
      "Epoch 28/30\n",
      "145/145 [==============================] - 0s 1ms/step - loss: 1478811.6250 - accuracy: 0.8607 - val_loss: 1526207.8750 - val_accuracy: 0.8634\n",
      "Epoch 29/30\n",
      "145/145 [==============================] - 0s 1ms/step - loss: 1152709.8750 - accuracy: 0.8737 - val_loss: 1942009.1250 - val_accuracy: 0.8313\n",
      "Epoch 30/30\n",
      "145/145 [==============================] - 0s 1ms/step - loss: 1279375.8750 - accuracy: 0.8647 - val_loss: 1494333.6250 - val_accuracy: 0.8730\n",
      "\n",
      "Confusion matrix: \n",
      " [[1706  278]\n",
      " [ 225 1751]]\n",
      "\n",
      "F1 Score: 0.8744069912609237\n"
     ]
    }
   ],
   "source": [
    "nn(X=X_smote, y=y_smote, name='smote')"
   ]
  },
  {
   "cell_type": "markdown",
   "id": "0e7a95b7",
   "metadata": {},
   "source": [
    "#### more on https://imbalanced-learn.org/stable/references/under_sampling.html"
   ]
  },
  {
   "cell_type": "code",
   "execution_count": 224,
   "id": "4533e41c",
   "metadata": {},
   "outputs": [],
   "source": []
  },
  {
   "cell_type": "code",
   "execution_count": 229,
   "id": "eb26e383",
   "metadata": {},
   "outputs": [
    {
     "data": {
      "text/html": [
       "<div>\n",
       "<style scoped>\n",
       "    .dataframe tbody tr th:only-of-type {\n",
       "        vertical-align: middle;\n",
       "    }\n",
       "\n",
       "    .dataframe tbody tr th {\n",
       "        vertical-align: top;\n",
       "    }\n",
       "\n",
       "    .dataframe thead th {\n",
       "        text-align: right;\n",
       "    }\n",
       "</style>\n",
       "<table border=\"1\" class=\"dataframe\">\n",
       "  <thead>\n",
       "    <tr style=\"text-align: right;\">\n",
       "      <th></th>\n",
       "      <th>Algorithm</th>\n",
       "      <th>F1-Score</th>\n",
       "      <th>number of rows in dataset</th>\n",
       "    </tr>\n",
       "  </thead>\n",
       "  <tbody>\n",
       "    <tr>\n",
       "      <th>18</th>\n",
       "      <td>logistic_regression_default</td>\n",
       "      <td>0.000000</td>\n",
       "      <td>6819</td>\n",
       "    </tr>\n",
       "    <tr>\n",
       "      <th>0</th>\n",
       "      <td>logistic_regression_default</td>\n",
       "      <td>0.022727</td>\n",
       "      <td>2046</td>\n",
       "    </tr>\n",
       "    <tr>\n",
       "      <th>6</th>\n",
       "      <td>logistic_regression_condensed_nearest_neighbor</td>\n",
       "      <td>0.030769</td>\n",
       "      <td>301</td>\n",
       "    </tr>\n",
       "    <tr>\n",
       "      <th>24</th>\n",
       "      <td>logistic_regression_condensed_nearest_neighbor</td>\n",
       "      <td>0.048193</td>\n",
       "      <td>1002</td>\n",
       "    </tr>\n",
       "    <tr>\n",
       "      <th>2</th>\n",
       "      <td>Neural_Networkdefault</td>\n",
       "      <td>0.109375</td>\n",
       "      <td>2046</td>\n",
       "    </tr>\n",
       "    <tr>\n",
       "      <th>20</th>\n",
       "      <td>Neural_Networkdefault</td>\n",
       "      <td>0.156522</td>\n",
       "      <td>6819</td>\n",
       "    </tr>\n",
       "    <tr>\n",
       "      <th>19</th>\n",
       "      <td>RandomForestdefault</td>\n",
       "      <td>0.166667</td>\n",
       "      <td>6819</td>\n",
       "    </tr>\n",
       "    <tr>\n",
       "      <th>8</th>\n",
       "      <td>Neural_Networkcondensed_nearest_neighbor</td>\n",
       "      <td>0.169231</td>\n",
       "      <td>301</td>\n",
       "    </tr>\n",
       "    <tr>\n",
       "      <th>1</th>\n",
       "      <td>RandomForestdefault</td>\n",
       "      <td>0.238806</td>\n",
       "      <td>2046</td>\n",
       "    </tr>\n",
       "    <tr>\n",
       "      <th>26</th>\n",
       "      <td>Neural_Networkcondensed_nearest_neighbor</td>\n",
       "      <td>0.263473</td>\n",
       "      <td>1002</td>\n",
       "    </tr>\n",
       "    <tr>\n",
       "      <th>11</th>\n",
       "      <td>Neural_NetworkCentral Centroids</td>\n",
       "      <td>0.532374</td>\n",
       "      <td>132</td>\n",
       "    </tr>\n",
       "    <tr>\n",
       "      <th>33</th>\n",
       "      <td>logistic_regression_smote</td>\n",
       "      <td>0.538507</td>\n",
       "      <td>13198</td>\n",
       "    </tr>\n",
       "    <tr>\n",
       "      <th>7</th>\n",
       "      <td>RandomForestcondensed_nearest_neighbor</td>\n",
       "      <td>0.545455</td>\n",
       "      <td>301</td>\n",
       "    </tr>\n",
       "    <tr>\n",
       "      <th>12</th>\n",
       "      <td>logistic_regression_random_over_sampling</td>\n",
       "      <td>0.546495</td>\n",
       "      <td>3960</td>\n",
       "    </tr>\n",
       "    <tr>\n",
       "      <th>29</th>\n",
       "      <td>Neural_NetworkCentral Centroids</td>\n",
       "      <td>0.549296</td>\n",
       "      <td>440</td>\n",
       "    </tr>\n",
       "    <tr>\n",
       "      <th>15</th>\n",
       "      <td>logistic_regression_smote</td>\n",
       "      <td>0.550059</td>\n",
       "      <td>3960</td>\n",
       "    </tr>\n",
       "    <tr>\n",
       "      <th>30</th>\n",
       "      <td>logistic_regression_random_over_sampling</td>\n",
       "      <td>0.564699</td>\n",
       "      <td>13198</td>\n",
       "    </tr>\n",
       "    <tr>\n",
       "      <th>21</th>\n",
       "      <td>logistic_regression_near_miss</td>\n",
       "      <td>0.568966</td>\n",
       "      <td>440</td>\n",
       "    </tr>\n",
       "    <tr>\n",
       "      <th>9</th>\n",
       "      <td>logistic_regression_Central Centroids</td>\n",
       "      <td>0.639344</td>\n",
       "      <td>132</td>\n",
       "    </tr>\n",
       "    <tr>\n",
       "      <th>3</th>\n",
       "      <td>logistic_regression_near_miss</td>\n",
       "      <td>0.644628</td>\n",
       "      <td>132</td>\n",
       "    </tr>\n",
       "    <tr>\n",
       "      <th>25</th>\n",
       "      <td>RandomForestcondensed_nearest_neighbor</td>\n",
       "      <td>0.657143</td>\n",
       "      <td>1002</td>\n",
       "    </tr>\n",
       "    <tr>\n",
       "      <th>27</th>\n",
       "      <td>logistic_regression_Central Centroids</td>\n",
       "      <td>0.696970</td>\n",
       "      <td>440</td>\n",
       "    </tr>\n",
       "    <tr>\n",
       "      <th>23</th>\n",
       "      <td>Neural_Networknear_miss</td>\n",
       "      <td>0.703125</td>\n",
       "      <td>440</td>\n",
       "    </tr>\n",
       "    <tr>\n",
       "      <th>32</th>\n",
       "      <td>Neural_Networkrandom_over_sampling</td>\n",
       "      <td>0.779335</td>\n",
       "      <td>13198</td>\n",
       "    </tr>\n",
       "    <tr>\n",
       "      <th>22</th>\n",
       "      <td>RandomForestnear_miss</td>\n",
       "      <td>0.791045</td>\n",
       "      <td>440</td>\n",
       "    </tr>\n",
       "    <tr>\n",
       "      <th>5</th>\n",
       "      <td>Neural_Networknear_miss</td>\n",
       "      <td>0.793103</td>\n",
       "      <td>132</td>\n",
       "    </tr>\n",
       "    <tr>\n",
       "      <th>17</th>\n",
       "      <td>Neural_Networksmote</td>\n",
       "      <td>0.824267</td>\n",
       "      <td>3960</td>\n",
       "    </tr>\n",
       "    <tr>\n",
       "      <th>4</th>\n",
       "      <td>RandomForestnear_miss</td>\n",
       "      <td>0.836879</td>\n",
       "      <td>132</td>\n",
       "    </tr>\n",
       "    <tr>\n",
       "      <th>14</th>\n",
       "      <td>Neural_Networkrandom_over_sampling</td>\n",
       "      <td>0.866859</td>\n",
       "      <td>3960</td>\n",
       "    </tr>\n",
       "    <tr>\n",
       "      <th>35</th>\n",
       "      <td>Neural_Networksmote</td>\n",
       "      <td>0.874407</td>\n",
       "      <td>13198</td>\n",
       "    </tr>\n",
       "    <tr>\n",
       "      <th>34</th>\n",
       "      <td>RandomForestsmote</td>\n",
       "      <td>0.908495</td>\n",
       "      <td>13198</td>\n",
       "    </tr>\n",
       "    <tr>\n",
       "      <th>16</th>\n",
       "      <td>RandomForestsmote</td>\n",
       "      <td>0.909679</td>\n",
       "      <td>3960</td>\n",
       "    </tr>\n",
       "    <tr>\n",
       "      <th>13</th>\n",
       "      <td>RandomForestrandom_over_sampling</td>\n",
       "      <td>0.912861</td>\n",
       "      <td>3960</td>\n",
       "    </tr>\n",
       "    <tr>\n",
       "      <th>31</th>\n",
       "      <td>RandomForestrandom_over_sampling</td>\n",
       "      <td>0.916107</td>\n",
       "      <td>13198</td>\n",
       "    </tr>\n",
       "    <tr>\n",
       "      <th>28</th>\n",
       "      <td>RandomForestCentral Centroids</td>\n",
       "      <td>0.942029</td>\n",
       "      <td>440</td>\n",
       "    </tr>\n",
       "    <tr>\n",
       "      <th>10</th>\n",
       "      <td>RandomForestCentral Centroids</td>\n",
       "      <td>0.968254</td>\n",
       "      <td>132</td>\n",
       "    </tr>\n",
       "  </tbody>\n",
       "</table>\n",
       "</div>"
      ],
      "text/plain": [
       "                                         Algorithm  F1-Score  \\\n",
       "18                     logistic_regression_default  0.000000   \n",
       "0                      logistic_regression_default  0.022727   \n",
       "6   logistic_regression_condensed_nearest_neighbor  0.030769   \n",
       "24  logistic_regression_condensed_nearest_neighbor  0.048193   \n",
       "2                            Neural_Networkdefault  0.109375   \n",
       "20                           Neural_Networkdefault  0.156522   \n",
       "19                             RandomForestdefault  0.166667   \n",
       "8         Neural_Networkcondensed_nearest_neighbor  0.169231   \n",
       "1                              RandomForestdefault  0.238806   \n",
       "26        Neural_Networkcondensed_nearest_neighbor  0.263473   \n",
       "11                 Neural_NetworkCentral Centroids  0.532374   \n",
       "33                       logistic_regression_smote  0.538507   \n",
       "7           RandomForestcondensed_nearest_neighbor  0.545455   \n",
       "12        logistic_regression_random_over_sampling  0.546495   \n",
       "29                 Neural_NetworkCentral Centroids  0.549296   \n",
       "15                       logistic_regression_smote  0.550059   \n",
       "30        logistic_regression_random_over_sampling  0.564699   \n",
       "21                   logistic_regression_near_miss  0.568966   \n",
       "9            logistic_regression_Central Centroids  0.639344   \n",
       "3                    logistic_regression_near_miss  0.644628   \n",
       "25          RandomForestcondensed_nearest_neighbor  0.657143   \n",
       "27           logistic_regression_Central Centroids  0.696970   \n",
       "23                         Neural_Networknear_miss  0.703125   \n",
       "32              Neural_Networkrandom_over_sampling  0.779335   \n",
       "22                           RandomForestnear_miss  0.791045   \n",
       "5                          Neural_Networknear_miss  0.793103   \n",
       "17                             Neural_Networksmote  0.824267   \n",
       "4                            RandomForestnear_miss  0.836879   \n",
       "14              Neural_Networkrandom_over_sampling  0.866859   \n",
       "35                             Neural_Networksmote  0.874407   \n",
       "34                               RandomForestsmote  0.908495   \n",
       "16                               RandomForestsmote  0.909679   \n",
       "13                RandomForestrandom_over_sampling  0.912861   \n",
       "31                RandomForestrandom_over_sampling  0.916107   \n",
       "28                   RandomForestCentral Centroids  0.942029   \n",
       "10                   RandomForestCentral Centroids  0.968254   \n",
       "\n",
       "    number of rows in dataset  \n",
       "18                       6819  \n",
       "0                        2046  \n",
       "6                         301  \n",
       "24                       1002  \n",
       "2                        2046  \n",
       "20                       6819  \n",
       "19                       6819  \n",
       "8                         301  \n",
       "1                        2046  \n",
       "26                       1002  \n",
       "11                        132  \n",
       "33                      13198  \n",
       "7                         301  \n",
       "12                       3960  \n",
       "29                        440  \n",
       "15                       3960  \n",
       "30                      13198  \n",
       "21                        440  \n",
       "9                         132  \n",
       "3                         132  \n",
       "25                       1002  \n",
       "27                        440  \n",
       "23                        440  \n",
       "32                      13198  \n",
       "22                        440  \n",
       "5                         132  \n",
       "17                       3960  \n",
       "4                         132  \n",
       "14                       3960  \n",
       "35                      13198  \n",
       "34                      13198  \n",
       "16                       3960  \n",
       "13                       3960  \n",
       "31                      13198  \n",
       "28                        440  \n",
       "10                        132  "
      ]
     },
     "execution_count": 229,
     "metadata": {},
     "output_type": "execute_result"
    }
   ],
   "source": [
    "pd.DataFrame.from_dict(results, orient='index', columns=['Algorithm', 'F1-Score', 'number of rows in dataset']).sort_values('F1-Score')"
   ]
  },
  {
   "cell_type": "code",
   "execution_count": null,
   "id": "09250b26",
   "metadata": {},
   "outputs": [],
   "source": []
  }
 ],
 "metadata": {
  "kernelspec": {
   "display_name": "Python 3",
   "language": "python",
   "name": "python3"
  },
  "language_info": {
   "codemirror_mode": {
    "name": "ipython",
    "version": 3
   },
   "file_extension": ".py",
   "mimetype": "text/x-python",
   "name": "python",
   "nbconvert_exporter": "python",
   "pygments_lexer": "ipython3",
   "version": "3.6.8"
  }
 },
 "nbformat": 4,
 "nbformat_minor": 5
}
